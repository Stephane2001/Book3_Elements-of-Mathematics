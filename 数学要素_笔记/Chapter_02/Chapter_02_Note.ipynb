{
 "cells": [
  {
   "cell_type": "markdown",
   "id": "7e890d61-0c97-43c0-ab95-2f7f32c96fd0",
   "metadata": {},
   "source": [
    "# <center>Chapter_02</center>\n",
    "\n",
    "```python\n",
    "# 各种需要用到的函数\n",
    "\n",
    "\"\"\"\n",
    "\n",
    "input()                    函数接受一个标准输入数据，返回为字符串str类型\n",
    "int()                      将输入转化为整数\n",
    "math.factorial()           计算阶乘\n",
    "numpy.cumprod()            计算累积乘积\n",
    "numpy.inner()              计算行向量的内积，函数输入为连个列向量时得到的结果为张量积\n",
    "numpy.linalg.inv()         计算方阵的逆\n",
    "numpy.linspace()           在指定的间隔内，返回固定步长的数组\n",
    "numpy.math.factorial()     计算阶乘\n",
    "numpy.random.seed()        固定随机数发生器种子\n",
    "numpy.random.uniform()     产生满足连续均匀分布的随机数\n",
    "numpy.sum()                求和\n",
    "scipy.special.factorial()  计算阶乘\n",
    "seaborn.heatmap()          绘制热图\n",
    "\n",
    "\"\"\"\n",
    "\n",
    "```"
   ]
  },
  {
   "cell_type": "markdown",
   "id": "d8d09f1f-f148-4d72-b25b-cf0199397ad1",
   "metadata": {},
   "source": [
    "## 2.1 算数乘除：先乘除，后加减，括号内先算\n",
    "### 2.1.1 乘法\n",
    "**乘法**算式等号左端是**被乘数**和**乘数**，右端是**乘积**。\n",
    "几个常用的乘法符号：\n",
    "- ${\\times}$用于数字相乘，一般不用于变量相乘。\n",
    "    - 在线性代数中${\\times}$表示**叉乘**\n",
    "- 两变量a,b相乘可以写成${ab}$，这种记法被称为**隐含乘法**，${ab}$也可写为${a \\cdot b}$  \n",
    "乘法运算时要注意单位。有一些数值本身**无单位**，比如个数，z分数（**标准分数**）。"
   ]
  },
  {
   "cell_type": "code",
   "execution_count": 7,
   "id": "79a06564-b254-4e44-b2b1-a7a7c24f7a36",
   "metadata": {},
   "outputs": [
    {
     "name": "stdout",
     "output_type": "stream",
     "text": [
      "The product of 2 and 3 is 6\n"
     ]
    }
   ],
   "source": [
    "# 计算两个数的乘法\n",
    "\n",
    "num1 = 2\n",
    "num2 = 3\n",
    "\n",
    "# num1 times num2 equals prod\n",
    "prod = num1*num2\n",
    "\n",
    "# display the computation\n",
    "print('The product of {0} and {1} is {2}'.format(num1, num2, prod))"
   ]
  },
  {
   "cell_type": "markdown",
   "id": "ecb6b9bd-e081-403e-9488-ee19c150247b",
   "metadata": {},
   "source": [
    "### 2.1.2 阶乘\n",
    "某个正整数的**阶乘**是所有小于等于该数的正整数的积。例如5的阶乘记为${5!}$：  \n",
    "$${5!=5 \\times 4 \\times 3 \\times 2 \\times 1}$$\n",
    "**特别的，0!=1**"
   ]
  },
  {
   "cell_type": "code",
   "execution_count": 3,
   "id": "0f14c85d-81c8-4d71-bd42-5b8f4387d491",
   "metadata": {},
   "outputs": [
    {
     "name": "stdin",
     "output_type": "stream",
     "text": [
      "Please enter a integer:  5\n"
     ]
    },
    {
     "name": "stdout",
     "output_type": "stream",
     "text": [
      "The factorial of 5 is 120\n"
     ]
    }
   ],
   "source": [
    "# 计算一个整数的阶乘\n",
    "number = int(input(\"Please enter a integer: \"))\n",
    "factorial = 1\n",
    "\n",
    "if number < 0:\n",
    "    print(\"The integer should be positive.\")\n",
    "elif number == 0:\n",
    "    print(\"The integer of 0 is 1\")\n",
    "else:\n",
    "    for i in range(1, number + 1):\n",
    "        factorial *= i\n",
    "    print(\"The factorial of {0} is {1}\".format(number, factorial))"
   ]
  },
  {
   "cell_type": "markdown",
   "id": "0d8f77f0-6a05-47a5-883b-98dd0cf68c8d",
   "metadata": {},
   "source": [
    "### 2.1.3 累计乘积\n",
    "对于一组数字，**累计乘积**也叫**累积乘积**，类似于累计求和，，它得到的结果不仅仅是一个乘积，二十从左向右每乘一个数值得到的分步结果。比如，自然数1到10的累计求积结果为：\n",
    "$${1, 2, 6, 24, 120, 720, 5040, 40320, 362880, 3628800}$$  "
   ]
  },
  {
   "cell_type": "code",
   "execution_count": 7,
   "id": "5e857dc6-5803-4bbd-96bd-33b0c7d1bb7d",
   "metadata": {},
   "outputs": [
    {
     "name": "stdout",
     "output_type": "stream",
     "text": [
      "[ 1.  2.  3.  4.  5.  6.  7.  8.  9. 10.]\n",
      "[      1.       2.       6.      24.     120.     720.    5040.   40320.\n",
      "  362880. 3628800.]\n",
      "[ 1  2  3  4  5  6  7  8  9 10]\n"
     ]
    }
   ],
   "source": [
    "# 计算一组数的累积乘积\n",
    "\n",
    "import numpy as np\n",
    "\n",
    "ten_num = np.linspace(1, 10, 10)\n",
    "print(ten_num)\n",
    "\n",
    "products = np.cumprod(ten_num)\n",
    "np.set_printoptions(suppress=True)  # 禁用科学计数法\n",
    "print(products)\n",
    "\n",
    "\"\"\"使用numpy.arange()生成1-10\"\"\"\n",
    "ten_num = np.arange(1, 11)\n",
    "print(ten_num)"
   ]
  },
  {
   "cell_type": "markdown",
   "id": "af83dbbd-04ce-42ef-80e5-cabf70ef9b5a",
   "metadata": {},
   "source": [
    "### 2.1.4 除法\n",
    "**除法**是**乘法的逆运算**。**被除数除以除数得到商**。  \n",
    "除法运算有时候可以**除尽**；有时候会得到**余数**，例如7除2余1。  \n",
    "除法的结果一般用分数或小数来表达。"
   ]
  },
  {
   "cell_type": "code",
   "execution_count": 8,
   "id": "af440dcf-3e56-4768-9dea-0c7f02e3c78d",
   "metadata": {},
   "outputs": [
    {
     "name": "stdout",
     "output_type": "stream",
     "text": [
      "The division of 6 over 3 is 2.0\n"
     ]
    }
   ],
   "source": [
    "# 两个数的除法\n",
    "\n",
    "num1 = 6\n",
    "num2 = 3\n",
    "\n",
    "# num1 divided by num2 equals division\n",
    "division = num1/num2\n",
    "\n",
    "# display the computation\n",
    "print('The division of {0} over {1} is {2}'.format(num1, num2, division))"
   ]
  },
  {
   "cell_type": "code",
   "execution_count": 9,
   "id": "c6f7632d-7a95-408e-ab2e-315e9fb5490e",
   "metadata": {},
   "outputs": [
    {
     "name": "stdout",
     "output_type": "stream",
     "text": [
      "The remainder of 7 over 2 is 1\n"
     ]
    }
   ],
   "source": [
    "# 两个数除法（取余）\n",
    "\n",
    "num1 = 7\n",
    "num2 = 2\n",
    "\n",
    "# 'remainder' is the remainder of num1 divided by num2\n",
    "remainder = num1%num2\n",
    "\n",
    "# display the computation\n",
    "print('The remainder of {0} over {1} is {2}'.format(num1, num2, remainder))"
   ]
  },
  {
   "cell_type": "markdown",
   "id": "660ef954-1726-4254-87b7-3e418c97f51c",
   "metadata": {},
   "source": [
    "### 2.1.5 分数\n",
    "最常见的分数是**普通分数**，由**分母**和**分子**组成，分隔二者的是**分数线**或正斜杠${/}$。  \n",
    "非零整数a的**倒数**是$\\frac{1}{a}$，分数$\\frac{b}{a}$的倒数是$\\frac{a}{b}$。\n",
    "\n",
    "### 2.1.6 英文对照\n",
    "|数学表达|英文表达|\n",
    "|:---:|:---|\n",
    "|${2 \\times b =6}$|Two times three equals six<br>Two multiplied by three equals six.<br>Two cross three equals six.<br>The product of two and three is six.<br>If you multiply two by three, you get six.|\n",
    "|${a \\cdot b=c}$|*a* times *b* equals *c*.<br>*a* multiplied by *b* equals *c*.<br>*a* dot *b* equals *c*.<br>The product of *a* and *b* is *c*.|\n",
    "|${6 \\div 3=2}$|Six divided by three equals two.<br>If you divide six by three, you get two.|\n",
    "|${7 \\div 2=3 R 1}$|Seven over two is three and remainder is one.<br>Seven divided by two equals three with a remainder of one.<br>Seven divided by two equals three and the remainder is one.|\n",
    "|$\\frac{1}{2}$, ${1/2}$|One half<br>A half<br>One over two|\n",
    "|${1:2}$|One to two|\n",
    "|$-\\frac{3}{2}$|Minus three-halves<br>Negative three-halves|\n",
    "|$\\frac{1}{3}$, ${1/3}$|One over three<br>One third|\n",
    "|$\\frac{1}{4}$, ${1/4}$|One over four<br>One fourth<br>One quater<br>One divided by four|\n",
    "|${1}\\frac{1}{4}$|One and one fourth|\n",
    "|$\\frac{3}{5}$|Three fifths|\n",
    "|$\\frac{1}{n}$|One over n|\n",
    "|$\\frac{a}{b}$|a over b<br>a divided by b<br>The ratio of a to b<br>The numerator is *a* while the denominator is *b*.|  \n",
    "<center>表1. 数学英文对照表</center>\n",
    "\n",
    "|英文名词|汉语名词|\n",
    "|:---|:---|\n",
    "|**multiplication**|乘法|\n",
    "|**multiplicand**|被乘数|\n",
    "|**multiplier**|乘数|\n",
    "|**product**|乘积|\n",
    "|**times, multiplied by**|乘|\n",
    "|**multiplication table, times table**|乘法表|\n",
    "|**cross product, vector product**|叉乘|\n",
    "|**implied multiplication**|隐含乘法|\n",
    "|**decimal point**|小数点|\n",
    "|**scalar product**|标量积|\n",
    "|**unitless**|无单位|\n",
    "|**standard score**|标准分数|\n",
    "|**fractorial**|阶乘|\n",
    "|**cumulative product**|累计乘积|\n",
    "|**division**|除法|\n",
    "|**dividend**|被除数|\n",
    "|**over, divided by**|除以|\n",
    "|**divisor, denominator**|除数|\n",
    "|**quotient**|商|\n",
    "|**divisible**|除尽|\n",
    "|**remainder**|余数|\n",
    "|**fraction**|分数|\n",
    "|**decimal**|小数|\n",
    "|**denominator**|分母|\n",
    "|**numerator**|分子|\n",
    "|**fraction bar**|分数线|\n",
    "|**reciprocal**|倒数|  \n",
    "<center>表2. 中英文对照表</center>"
   ]
  },
  {
   "cell_type": "markdown",
   "id": "7533ffcf-1325-4352-9472-ee355a7e64bb",
   "metadata": {},
   "source": [
    "## 2.2 向量乘法：标量乘法、向量内积、逐项积"
   ]
  },
  {
   "cell_type": "code",
   "execution_count": 12,
   "id": "987fc4f0-869a-4315-a022-d65685b9cdf5",
   "metadata": {},
   "outputs": [],
   "source": [
    "# 向量和矩阵的标量乘法\n",
    "\n"
   ]
  },
  {
   "cell_type": "code",
   "execution_count": null,
   "id": "6f89da0a-04d8-48ae-85a5-6789804f1559",
   "metadata": {},
   "outputs": [],
   "source": []
  },
  {
   "cell_type": "code",
   "execution_count": 2,
   "id": "c1125dd9-81a6-4d83-bd10-305c41621739",
   "metadata": {},
   "outputs": [],
   "source": [
    "# 向量内积\n",
    "\n",
    "import numpy as np\n",
    "\n",
    "\n"
   ]
  },
  {
   "cell_type": "code",
   "execution_count": 1,
   "id": "aa2f5dee-2d4a-468d-ad63-df6fc2785572",
   "metadata": {},
   "outputs": [],
   "source": [
    "# 逐项积\n",
    "\n",
    "import numpy as np\n"
   ]
  },
  {
   "cell_type": "markdown",
   "id": "7da27b87-07ab-4da5-91c9-3c3aa6571b6a",
   "metadata": {},
   "source": [
    "## 2.3 矩阵乘法：最重要的线性代数运算规则\n",
    "### 2.3.1 矩阵乘法规则\n",
    "${A}$和${B}$两个矩阵相乘的前提是**矩阵${A}$的列数和矩阵${B}$的行数相同**。  \n",
    "${A}$和${B}$的乘积一般写作${AB}$。  \n",
    "在Numpy中，两个矩阵相乘的运算符为@，${AB}$也记作${A@B}$：\n",
    "$${{C}_{m \\times n}={A}_{m \\times p}{B}_{p \\times n}={A}_{m \\times p}@{B}_{p \\times n}}$$  \n",
    "矩阵乘法不满足交换律，即通常情况下：\n",
    "$${{A}_{m \\times p}{B}_{p \\times n} \\neq {B}_{p \\times n}{A}_{m \\times p}}$$\n",
    "\n",
    "### 2.3.2 两个${2 \\times 2}$矩阵相乘\n",
    "下式中，矩阵${A}$和${B}$相乘结果为矩阵${C}$：\n",
    "$${{C}={AB}=\\begin{bmatrix}1 & 2 \\\\ 3 & 4\\end{bmatrix}\\begin{bmatrix}4 & 2 \\\\ 3 & 1\\end{bmatrix}=\\begin{bmatrix}1 & 2 \\\\ 3 & 4\\end{bmatrix}@\\begin{bmatrix}4 & 2 \\\\ 3 & 1\\end{bmatrix}}$$  \n",
    "矩阵${A}$的第一行元素和矩阵${B}$第一列对应元素进行相乘，再相加，结果得到矩阵${C}$的第一行、第一列元素${{c}_{1,1}}$。  \n",
    "矩阵${A}$的第一行元素和矩阵${B}$第二列对应元素进行相乘，再相加，结果得到矩阵${C}$的第一行、第一列元素${{c}_{1,2}}$。\n",
    "${\\cdots}$  \n",
    "总体来说，${A}$和${B}$的乘积${C}$第i行第j列元素${{c}_{i,j}}$等于矩阵${A}$的第i行的元素与矩阵${B}$第j列对应元素乘积再求和。\n",
    "![图8.矩阵乘法规则，两个${2 \\times 2}$矩阵相乘为例](images/8.png)\n",
    "<center>图8.矩阵乘法规则，两个${2 \\times 2}$矩阵相乘为例</center>"
   ]
  },
  {
   "cell_type": "code",
   "execution_count": 2,
   "id": "4d082565-7b5c-4e51-b832-ff04e3ca41bb",
   "metadata": {},
   "outputs": [
    {
     "name": "stdout",
     "output_type": "stream",
     "text": [
      "[[ 27  46  43]\n",
      " [ 67  97  96]\n",
      " [ 93 124  99]]\n"
     ]
    }
   ],
   "source": [
    "# 矩阵乘法\n",
    "\n",
    "import numpy as np\n",
    "\n",
    "array_1 = np.array([[1, 2, 5], [6, 4, 7], [3, 8, 9]])\n",
    "array_2 = np.array([[4, 5, 7], [9, 8, 3], [1, 5, 6]])\n",
    "\n",
    "prod_array = array_1 @ array_2\n",
    "print(prod_array)"
   ]
  },
  {
   "cell_type": "markdown",
   "id": "fb6f3825-9249-4111-abad-97333608116f",
   "metadata": {},
   "source": [
    "### 2.3.3 矩阵乘法形态\n",
    "图9中列出了常见的矩阵乘法形态，每种形态对应一类线性代数问题。\n",
    "![图9.矩阵乘法形态多样性](images/9.png)\n",
    "<center>图9.矩阵乘法形态多样性</center>\n",
    "\n",
    "### 2.3.4 两个向量相乘\n",
    "1. 向量${a}$和${b}$为等长列向量，${a}$转置(${a}^{T}$)乘${b}$为标量，等价于${a}$和${b}$的标量积：\n",
    "$${{a}^{T}b={a \\cdot b}}$$  \n",
    "例如：\n",
    "$${{a}^{T}b=\\begin{bmatrix}1 \\\\ 2 \\\\ 3\\end{bmatrix}^{T}_{3 \\times 1}@\\begin{bmatrix}4 \\\\ 3 \\\\ 2\\end{bmatrix}_{3 \\times 1}=\\begin{bmatrix}1 & 2 & 3\\end{bmatrix}_{1 \\times 3}@\\begin{bmatrix}4 \\\\ 3 \\\\ 2\\end{bmatrix}_{3 \\times 1}=\\begin{bmatrix}1 & 2 & 3\\end{bmatrix} \\cdot \\begin{bmatrix}4 & 3 & 2\\end{bmatrix}=16}$$  \n",
    "\n",
    "2. 列向量${a}$乘${b}$转置(${b}^{T}$)，乘积结果${ab^{T}}$为矩阵：\n",
    "$${{a}b^{T}=\\begin{bmatrix}1 \\\\ 2 \\\\ 3\\end{bmatrix}_{3 \\times 1}@\\begin{bmatrix}4 \\\\ 3 \\\\ 2\\end{bmatrix}^{T}_{3 \\times 1}=\\begin{bmatrix}1 \\\\ 2 \\\\ 3\\end{bmatrix}_{3 \\times 1}@\\begin{bmatrix}4 & 3 & 2\\end{bmatrix}_{1 \\times 3}=\\begin{bmatrix}4 & 3 & 2 \\\\ 8 & 6 & 4 \\\\ 12 & 9 & 6\\end{bmatrix}}$$  \n",
    "$${{a}b^{T}=\\begin{bmatrix}1 \\\\ 2\\end{bmatrix}_{2 \\times 1}@\\begin{bmatrix}4 \\\\ 3 \\\\ 2\\end{bmatrix}^{T}_{3 \\times 1}=\\begin{bmatrix}1 \\\\ 2\\end{bmatrix}_{2 \\times 1}@\\begin{bmatrix}4 & 3 & 2\\end{bmatrix}_{3 \\times 1}=\\begin{bmatrix}4 & 3 & 2 \\\\ 8 & 6 & 4\\end{bmatrix}}$$  "
   ]
  },
  {
   "cell_type": "markdown",
   "id": "f4f71dae-0c44-45b0-9986-1b915156b01d",
   "metadata": {},
   "source": [
    "## 2.4 矩阵乘法的第一视角\n"
   ]
  }
 ],
 "metadata": {
  "kernelspec": {
   "display_name": "ML",
   "language": "python",
   "name": "ml"
  },
  "language_info": {
   "codemirror_mode": {
    "name": "ipython",
    "version": 3
   },
   "file_extension": ".py",
   "mimetype": "text/x-python",
   "name": "python",
   "nbconvert_exporter": "python",
   "pygments_lexer": "ipython3",
   "version": "3.9.16"
  }
 },
 "nbformat": 4,
 "nbformat_minor": 5
}

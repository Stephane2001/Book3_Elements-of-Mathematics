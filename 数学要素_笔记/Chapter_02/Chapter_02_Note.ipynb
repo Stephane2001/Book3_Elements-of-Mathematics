{
 "cells": [
  {
   "cell_type": "markdown",
   "id": "7e890d61-0c97-43c0-ab95-2f7f32c96fd0",
   "metadata": {},
   "source": [
    "# <center>Chapter_02</center>\n",
    "\n",
    "```python\n",
    "# 各种需要用到的函数\n",
    "\n",
    "\"\"\"\n",
    "\n",
    "input()                    函数接受一个标准输入数据，返回为字符串str类型\n",
    "int()                      将输入转化为整数\n",
    "math.factorial()           计算阶乘\n",
    "numpy.cumprod()            计算累积乘积\n",
    "numpy.inner()              计算行向量的内积，函数输入为连个列向量时得到的结果为张量积\n",
    "numpy.linalg.inv()         计算方阵的逆\n",
    "numpy.linspace()           在指定的间隔内，返回固定步长的数组\n",
    "numpy.math.factorial()     计算阶乘\n",
    "numpy.random.seed()        固定随机数发生器种子\n",
    "numpy.random.uniform()     产生满足连续均匀分布的随机数\n",
    "numpy.sum()                求和\n",
    "scipy.special.factorial()  计算阶乘\n",
    "seaborn.heatmap()          绘制热图\n",
    "\n",
    "\"\"\"\n",
    "\n",
    "```"
   ]
  },
  {
   "cell_type": "markdown",
   "id": "d8d09f1f-f148-4d72-b25b-cf0199397ad1",
   "metadata": {},
   "source": [
    "## 2.1 算数乘除：先乘除，后加减，括号内先算\n",
    "### 2.1.1 乘法\n",
    "**乘法**算式等号左端是**被乘数**和**乘数**，右端是**乘积**。\n",
    "几个常用的乘法符号：\n",
    "- ${\\times}$用于数字相乘，一般不用于变量相乘。\n",
    "    - 在线性代数中${\\times}$表示**叉乘**\n",
    "- 两变量a,b相乘可以写成${ab}$，这种记法被称为**隐含乘法**，${ab}$也可写为${a \\cdot b}$  \n",
    "乘法运算时要注意单位。有一些数值本身**无单位**，比如个数，z分数（**标准分数**）。"
   ]
  },
  {
   "cell_type": "code",
   "execution_count": 7,
   "id": "79a06564-b254-4e44-b2b1-a7a7c24f7a36",
   "metadata": {},
   "outputs": [
    {
     "name": "stdout",
     "output_type": "stream",
     "text": [
      "The product of 2 and 3 is 6\n"
     ]
    }
   ],
   "source": [
    "# 计算两个数的乘法\n",
    "\n",
    "num1 = 2\n",
    "num2 = 3\n",
    "\n",
    "# num1 times num2 equals prod\n",
    "prod = num1*num2\n",
    "\n",
    "# display the computation\n",
    "print('The product of {0} and {1} is {2}'.format(num1, num2, prod))"
   ]
  },
  {
   "cell_type": "markdown",
   "id": "ecb6b9bd-e081-403e-9488-ee19c150247b",
   "metadata": {},
   "source": [
    "### 2.1.2 阶乘\n",
    "某个正整数的**阶乘**是所有小于等于该数的正整数的积。例如5的阶乘记为${5!}$：  \n",
    "$${5!=5 \\times 4 \\times 3 \\times 2 \\times 1}$$\n",
    "**特别的，0!=1**"
   ]
  },
  {
   "cell_type": "code",
   "execution_count": 3,
   "id": "0f14c85d-81c8-4d71-bd42-5b8f4387d491",
   "metadata": {},
   "outputs": [
    {
     "name": "stdin",
     "output_type": "stream",
     "text": [
      "Please enter a integer:  5\n"
     ]
    },
    {
     "name": "stdout",
     "output_type": "stream",
     "text": [
      "The factorial of 5 is 120\n"
     ]
    }
   ],
   "source": [
    "# 计算一个整数的阶乘\n",
    "number = int(input(\"Please enter a integer: \"))\n",
    "factorial = 1\n",
    "\n",
    "if number < 0:\n",
    "    print(\"The integer should be positive.\")\n",
    "elif number == 0:\n",
    "    print(\"The integer of 0 is 1\")\n",
    "else:\n",
    "    for i in range(1, number + 1):\n",
    "        factorial *= i\n",
    "    print(\"The factorial of {0} is {1}\".format(number, factorial))"
   ]
  },
  {
   "cell_type": "markdown",
   "id": "0d8f77f0-6a05-47a5-883b-98dd0cf68c8d",
   "metadata": {},
   "source": [
    "### 2.1.3 累计乘积\n",
    "对于一组数字，**累计乘积**也叫**累积乘积**，类似于累计求和，，它得到的结果不仅仅是一个乘积，二十从左向右每乘一个数值得到的分步结果。比如，自然数1到10的累计求积结果为：\n",
    "$${1, 2, 6, 24, 120, 720, 5040, 40320, 362880, 3628800}$$  "
   ]
  },
  {
   "cell_type": "code",
   "execution_count": 7,
   "id": "5e857dc6-5803-4bbd-96bd-33b0c7d1bb7d",
   "metadata": {},
   "outputs": [
    {
     "name": "stdout",
     "output_type": "stream",
     "text": [
      "[ 1.  2.  3.  4.  5.  6.  7.  8.  9. 10.]\n",
      "[      1.       2.       6.      24.     120.     720.    5040.   40320.\n",
      "  362880. 3628800.]\n",
      "[ 1  2  3  4  5  6  7  8  9 10]\n"
     ]
    }
   ],
   "source": [
    "# 计算一组数的累积乘积\n",
    "\n",
    "import numpy as np\n",
    "\n",
    "ten_num = np.linspace(1, 10, 10)\n",
    "print(ten_num)\n",
    "\n",
    "products = np.cumprod(ten_num)\n",
    "np.set_printoptions(suppress=True)  # 禁用科学计数法\n",
    "print(products)\n",
    "\n",
    "\"\"\"使用numpy.arange()生成1-10\"\"\"\n",
    "ten_num = np.arange(1, 11)\n",
    "print(ten_num)"
   ]
  },
  {
   "cell_type": "markdown",
   "id": "af83dbbd-04ce-42ef-80e5-cabf70ef9b5a",
   "metadata": {},
   "source": [
    "### 2.1.4 除法\n",
    "**除法**是**乘法的逆运算**。**被除数除以除数得到商**。  \n",
    "除法运算有时候可以**除尽**；有时候会得到**余数**，例如7除2余1。  \n",
    "除法的结果一般用分数或小数来表达。"
   ]
  },
  {
   "cell_type": "code",
   "execution_count": 8,
   "id": "af440dcf-3e56-4768-9dea-0c7f02e3c78d",
   "metadata": {},
   "outputs": [
    {
     "name": "stdout",
     "output_type": "stream",
     "text": [
      "The division of 6 over 3 is 2.0\n"
     ]
    }
   ],
   "source": [
    "# 两个数的除法\n",
    "\n",
    "num1 = 6\n",
    "num2 = 3\n",
    "\n",
    "# num1 divided by num2 equals division\n",
    "division = num1/num2\n",
    "\n",
    "# display the computation\n",
    "print('The division of {0} over {1} is {2}'.format(num1, num2, division))"
   ]
  },
  {
   "cell_type": "code",
   "execution_count": 9,
   "id": "c6f7632d-7a95-408e-ab2e-315e9fb5490e",
   "metadata": {},
   "outputs": [
    {
     "name": "stdout",
     "output_type": "stream",
     "text": [
      "The remainder of 7 over 2 is 1\n"
     ]
    }
   ],
   "source": [
    "# 两个数除法（取余）\n",
    "\n",
    "num1 = 7\n",
    "num2 = 2\n",
    "\n",
    "# 'remainder' is the remainder of num1 divided by num2\n",
    "remainder = num1%num2\n",
    "\n",
    "# display the computation\n",
    "print('The remainder of {0} over {1} is {2}'.format(num1, num2, remainder))"
   ]
  },
  {
   "cell_type": "markdown",
   "id": "660ef954-1726-4254-87b7-3e418c97f51c",
   "metadata": {},
   "source": [
    "### 2.1.5 分数\n",
    "最常见的分数是**普通分数**，由**分母**和**分子**组成，分隔二者的是**分数线**或正斜杠${/}$。  \n",
    "非零整数a的**倒数**是$\\frac{1}{a}$，分数$\\frac{b}{a}$的倒数是$\\frac{a}{b}$。\n",
    "\n",
    "### 2.1.6 英文对照\n",
    "|数学表达|英文表达|\n",
    "|:---:|:---|\n",
    "|${2 \\times b =6}$|Two times three equals six<br>Two multiplied by three equals six.<br>Two cross three equals six.<br>The product of two and three is six.<br>If you multiply two by three, you get six.|\n",
    "|${a \\cdot b=c}$|*a* times *b* equals *c*.<br>*a* multiplied by *b* equals *c*.<br>*a* dot *b* equals *c*.<br>The product of *a* and *b* is *c*.|\n",
    "|${6 \\div 3=2}$|Six divided by three equals two.<br>If you divide six by three, you get two.|\n",
    "|${7 \\div 2=3 R 1}$|Seven over two is three and remainder is one.<br>Seven divided by two equals three with a remainder of one.<br>Seven divided by two equals three and the remainder is one.|\n",
    "|$\\frac{1}{2}$, ${1/2}$|One half<br>A half<br>One over two|\n",
    "|${1:2}$|One to two|\n",
    "|$-\\frac{3}{2}$|Minus three-halves<br>Negative three-halves|\n",
    "|$\\frac{1}{3}$, ${1/3}$|One over three<br>One third|\n",
    "|$\\frac{1}{4}$, ${1/4}$|One over four<br>One fourth<br>One quater<br>One divided by four|\n",
    "|${1}\\frac{1}{4}$|One and one fourth|\n",
    "|$\\frac{3}{5}$|Three fifths|\n",
    "|$\\frac{1}{n}$|One over n|\n",
    "|$\\frac{a}{b}$|a over b<br>a divided by b<br>The ratio of a to b<br>The numerator is *a* while the denominator is *b*.|  \n",
    "<center>表1. 数学英文对照表</center>\n",
    "\n",
    "|英文名词|汉语名词|\n",
    "|:---|:---|\n",
    "|**multiplication**|乘法|\n",
    "|**multiplicand**|被乘数|\n",
    "|**multiplier**|乘数|\n",
    "|**product**|乘积|\n",
    "|**times, multiplied by**|乘|\n",
    "|**multiplication table, times table**|乘法表|\n",
    "|**cross product, vector product**|叉乘|\n",
    "|**implied multiplication**|隐含乘法|\n",
    "|**decimal point**|小数点|\n",
    "|**scalar product**|标量积|\n",
    "|**unitless**|无单位|\n",
    "|**standard score**|标准分数|\n",
    "|**fractorial**|阶乘|\n",
    "|**cumulative product**|累计乘积|\n",
    "|**division**|除法|\n",
    "|**dividend**|被除数|\n",
    "|**over, divided by**|除以|\n",
    "|**divisor, denominator**|除数|\n",
    "|**quotient**|商|\n",
    "|**divisible**|除尽|\n",
    "|**remainder**|余数|\n",
    "|**fraction**|分数|\n",
    "|**decimal**|小数|\n",
    "|**denominator**|分母|\n",
    "|**numerator**|分子|\n",
    "|**fraction bar**|分数线|\n",
    "|**reciprocal**|倒数|  \n",
    "<center>表2. 中英文对照表</center>"
   ]
  },
  {
   "cell_type": "markdown",
   "id": "7533ffcf-1325-4352-9472-ee355a7e64bb",
   "metadata": {},
   "source": [
    "## 2.2 向量乘法：标量乘法、向量内积、逐项积\n",
    "### 2.2.1 标量乘法\n",
    "标量乘法中，标量乘向量结果还是向量，相当于缩放。\n",
    "标量乘法的运算规则为：向量***a***的每一个元素均与k相乘，比如，标量2乘行向量${\\begin{bmatrix}1, 2,3\\end{bmatrix}}$:\n",
    "$${2 \\times \\begin{bmatrix}1 & 2 & 3\\end{bmatrix} = \\begin{bmatrix}2 \\times 1 & 2 \\times 2 & 2 \\times 3 &\\end{bmatrix} = \\begin{bmatrix}2 & 4 & 6\\end{bmatrix}}$$  \n",
    "再如，标量乘列向量：\n",
    "$${2 \\times \\begin{bmatrix}1 \\\\ 2 \\\\ 3\\end{bmatrix} = \\begin{bmatrix}2 \\times 1 \\\\ 2 \\times 2 \\\\ 2 \\times 3\\end{bmatrix} = \\begin{bmatrix}2 \\\\ 4 \\\\ 6\\end{bmatrix}}$$ \n",
    "同理，标量k乘矩阵***A***结果是k与矩阵A每一个元素相乘，比如：\n",
    "$${2 \\times \\begin{bmatrix}1 & 2 & 3 \\\\ 4 & 5 & 6\\end{bmatrix}_{2 \\times 3} = \\begin{bmatrix}2 \\times 1 & 2 \\times 2 & 2 \\times 3 \\\\ 2 \\times 4 & 2 \\times 5 & 2 \\times 6\\end{bmatrix}_{2 \\times 3} = \\begin{bmatrix}2 & 4 & 6 \\\\ 8 & 10 & 12\\end{bmatrix}_{2 \\times 3}}$$  "
   ]
  },
  {
   "cell_type": "code",
   "execution_count": 5,
   "id": "987fc4f0-869a-4315-a022-d65685b9cdf5",
   "metadata": {
    "tags": []
   },
   "outputs": [
    {
     "name": "stdout",
     "output_type": "stream",
     "text": [
      "[[ 5 10 15]]\n",
      "[[ 5]\n",
      " [10]\n",
      " [15]]\n"
     ]
    }
   ],
   "source": [
    "# 向量和矩阵的标量乘法\n",
    "\n",
    "import numpy as np\n",
    "\n",
    "row_v = np.array([[1, 2, 3]])\n",
    "col_v = np.array([[1], [2], [3]])\n",
    "\n",
    "a = 5\n",
    "print(a * row_v)\n",
    "print(a * col_v)"
   ]
  },
  {
   "cell_type": "markdown",
   "id": "8fe90e5d-25f4-47fb-a604-08ab4bbcb852",
   "metadata": {},
   "source": [
    "### 2.2.2 向量内积\n",
    "**向量内积**的结果为**标量**。  \n",
    "向量内积又叫标量积或点积。  \n",
    "向量内积的运算规则是，两个**形状形同的向量**，对应位置元素一一相乘，再求和。  \n",
    "例如计算两个行向量内积与列向量内积：\n",
    "$${\\begin{bmatrix}1 & 2 & 3\\end{bmatrix} \\cdot \\begin{bmatrix}4 & 3 & 2\\end{bmatrix} = 1 \\times 4+2 \\times 3+3 \\times 2=4+6+6=16}$$  \n",
    "$${\\begin{bmatrix}1 \\\\ 2 \\\\ 3\\end{bmatrix} \\cdot \\begin{bmatrix}4 \\\\ 3 \\\\ 2\\end{bmatrix} = 1 \\times 4+2 \\times 3+3 \\times 2=4+6+6=16}$$  \n",
    "\n",
    "性质：\n",
    "1. 交换律\n",
    "    - ${a \\cdot b = b \\cdot a}$\n",
    "2. 分配律\n",
    "    - ${a \\cdot (b+c)=a \\cdot b+a \\cdot c}$  \n",
    "\n",
    "用途：\n",
    "1. 对向量中的元素求和\n",
    "    $${\\begin{bmatrix}a & b & c & d & e\\end{bmatrix}^{T} \\cdot \\begin{bmatrix}1 & 1 & 1 & 1 & 1\\end{bmatrix}^{T}=1 \\times a+1 \\times b+1 \\times c+1 \\times d+1 \\times e}$$  \n",
    "2. 求向量中元素平均值\n",
    "    $${\\begin{bmatrix}a & b & c & d & e\\end{bmatrix}^{T} \\cdot \\begin{bmatrix}\\frac{1}{5} & \\frac{1}{5} & \\frac{1}{5} & \\frac{1}{5} & \\frac{1}{5}\\end{bmatrix}^{T}=\\frac{1}{5} \\times a+\\frac{1}{5} \\times b+\\frac{1}{5} \\times c+\\frac{1}{5} \\times d+\\frac{1}{5} \\times e = \\frac{a+b+c+d+e}{5}}$$  \n",
    "3. 计算向量中元素平方和\n",
    "     $${\\begin{bmatrix}a & b & c & d & e\\end{bmatrix}^{T} \\cdot \\begin{bmatrix}a & b & c & d & e\\end{bmatrix}^{T}= {a}^{2}+{b}^{2}+{c}^{2}+{d}^{2}+{e}^{2}}$$  "
   ]
  },
  {
   "cell_type": "code",
   "execution_count": 3,
   "id": "c1125dd9-81a6-4d83-bd10-305c41621739",
   "metadata": {},
   "outputs": [
    {
     "name": "stdout",
     "output_type": "stream",
     "text": [
      "[[78]]\n",
      "[[ 5  4  6  8  3]\n",
      " [10  8 12 16  6]\n",
      " [15 12 18 24  9]\n",
      " [20 16 24 32 12]\n",
      " [25 20 30 40 15]]\n"
     ]
    }
   ],
   "source": [
    "# 向量内积\n",
    "\n",
    "import numpy as np\n",
    "\n",
    "row_v_1 = np.array([[1, 2, 3, 4, 5]])\n",
    "row_v_2 = np.array([[5, 4, 6, 8, 3]])\n",
    "\n",
    "col_v_1 = np.array([[1], [2], [3], [4], [5]])\n",
    "col_v_2 = np.array([[5], [4], [6], [8], [3]])\n",
    "\n",
    "prod_row = np.inner(row_v_1, row_v_2)\n",
    "prod_col = np.inner(col_v_1, col_v_2)  # 张量积\n",
    "\n",
    "print(prod_row)\n",
    "print(prod_col)"
   ]
  },
  {
   "cell_type": "markdown",
   "id": "ed64e937-80e8-426a-bd75-f1a233679ba7",
   "metadata": {},
   "source": [
    "### 2.2.3 逐项积\n",
    "**逐项积**也称**阿达码乘积**，两个形状相同向量的逐项积为对应位置元素分别相乘，结果为相同形状的向量。  \n",
    "逐项积的运算符为${\\odot}$。逐项积相当于算术乘法的批量运算。  \n",
    "例如，两个行向量逐项积：\n",
    "$${\\begin{bmatrix}1 & 2 & 3\\end{bmatrix} \\odot \\begin{bmatrix}4 & 5 & 6\\end{bmatrix}=\\begin{bmatrix}1 \\times 4 & 2 \\times 5 & 3 \\times 6\\end{bmatrix} = \\begin{bmatrix}4 & 10 & 18\\end{bmatrix}}$$  \n",
    "当矩阵形状相同时，两个矩阵逐项积运算为对应元素相乘，形状不变：\n",
    "$${\\begin{bmatrix}1 & 2 & 3 \\\\ 4 & 5 & 6\\end{bmatrix}_{2 \\times 3} \\odot \\begin{bmatrix}1 & 2 & 3 \\\\ -1 & 0 & 1\\end{bmatrix}_{2 \\times 3} = \\begin{bmatrix}1 \\times 1 & 2 \\times 2 & 3 \\times 3 \\\\ 4 \\times (-1) & 5 \\times 0 & 6 \\times 1\\end{bmatrix}_{2 \\times 3}=\\begin{bmatrix}1 & 4 & 9 \\\\ -4 & 0 & 6\\end{bmatrix}_{2 \\times 3}}$$"
   ]
  },
  {
   "cell_type": "code",
   "execution_count": 4,
   "id": "aa2f5dee-2d4a-468d-ad63-df6fc2785572",
   "metadata": {},
   "outputs": [
    {
     "name": "stdout",
     "output_type": "stream",
     "text": [
      "[[ 5  8 18 32 15]]\n",
      "[[ 6  4 24]\n",
      " [12 25 24]\n",
      " [35 64 63]]\n"
     ]
    }
   ],
   "source": [
    "# 逐项积\n",
    "\n",
    "import numpy as np\n",
    "\n",
    "row_v_1 = np.array([[1, 2, 3, 4, 5]])\n",
    "row_v_2 = np.array([[5, 4, 6, 8, 3]])\n",
    "\n",
    "array_1 = np.array([[1, 2, 3], [4, 5, 6], [7, 8, 9]])\n",
    "array_2 = np.array([[6, 2, 8], [3, 5, 4], [5, 8, 7]])\n",
    "\n",
    "prod_row = row_v_1 * row_v_2  # 在numpy中，*表示阿达码乘积\n",
    "prod_array = array_1 * array_2\n",
    "\n",
    "print(prod_row)\n",
    "print(prod_array)"
   ]
  },
  {
   "cell_type": "markdown",
   "id": "af157264-f95d-4a9c-95d7-831ddae82f8a",
   "metadata": {},
   "source": [
    "### 2.2.4 英文对照\n",
    "|英文名词|汉语名词|\n",
    "|:---|:---|\n",
    "|**scalar multiplication**|标量乘法|\n",
    "|**inner product**|向量内积|\n",
    "|**scalar product**|标量积|\n",
    "|**dot product**|点积|\n",
    "|**tensor product**|张量积|\n",
    "|**piecewise product**|逐项积|\n",
    "|**Hadamard product**|阿达码乘积|\n",
    "<center>表3. 中英文对照表</center>"
   ]
  },
  {
   "cell_type": "markdown",
   "id": "11e35293-0ac3-452a-affe-979e6e56c997",
   "metadata": {},
   "source": [
    "## 2.3 矩阵乘法：最重要的线性代数运算规则\n",
    "### 2.3.1 矩阵乘法规则\n",
    "${A}$和${B}$两个矩阵相乘的前提是**矩阵${A}$的列数和矩阵${B}$的行数相同**。  \n",
    "${A}$和${B}$的乘积一般写作${AB}$。  \n",
    "在Numpy中，两个矩阵相乘的运算符为@，${AB}$也记作${A@B}$：\n",
    "$${{C}_{m \\times n}={A}_{m \\times p}{B}_{p \\times n}={A}_{m \\times p}@{B}_{p \\times n}}$$  \n",
    "矩阵乘法不满足交换律，即通常情况下：\n",
    "$${{A}_{m \\times p}{B}_{p \\times n} \\neq {B}_{p \\times n}{A}_{m \\times p}}$$\n",
    "\n",
    "### 2.3.2 两个${2 \\times 2}$矩阵相乘\n",
    "下式中，矩阵${A}$和${B}$相乘结果为矩阵${C}$：\n",
    "$${{C}={AB}=\\begin{bmatrix}1 & 2 \\\\ 3 & 4\\end{bmatrix}\\begin{bmatrix}4 & 2 \\\\ 3 & 1\\end{bmatrix}=\\begin{bmatrix}1 & 2 \\\\ 3 & 4\\end{bmatrix}@\\begin{bmatrix}4 & 2 \\\\ 3 & 1\\end{bmatrix}}$$  \n",
    "矩阵${A}$的第一行元素和矩阵${B}$第一列对应元素进行相乘，再相加，结果得到矩阵${C}$的第一行、第一列元素${{c}_{1,1}}$。  \n",
    "矩阵${A}$的第一行元素和矩阵${B}$第二列对应元素进行相乘，再相加，结果得到矩阵${C}$的第一行、第一列元素${{c}_{1,2}}$。\n",
    "${\\cdots}$  \n",
    "总体来说，${A}$和${B}$的乘积${C}$第i行第j列元素${{c}_{i,j}}$等于矩阵${A}$的第i行的元素与矩阵${B}$第j列对应元素乘积再求和。  \n",
    "\n",
    "![图1.矩阵乘法规则，两个${2 \\times 2}$矩阵相乘为例](images/1.png)  \n",
    "<center>图1.矩阵乘法规则，两个${2 \\times 2}$矩阵相乘为例</center>"
   ]
  },
  {
   "cell_type": "code",
   "execution_count": 1,
   "id": "4d082565-7b5c-4e51-b832-ff04e3ca41bb",
   "metadata": {},
   "outputs": [
    {
     "name": "stdout",
     "output_type": "stream",
     "text": [
      "[[ 27  46  43]\n",
      " [ 67  97  96]\n",
      " [ 93 124  99]]\n"
     ]
    }
   ],
   "source": [
    "# 矩阵乘法\n",
    "\n",
    "import numpy as np\n",
    "\n",
    "array_1 = np.array([[1, 2, 5], [6, 4, 7], [3, 8, 9]])\n",
    "array_2 = np.array([[4, 5, 7], [9, 8, 3], [1, 5, 6]])\n",
    "\n",
    "prod_array = array_1 @ array_2\n",
    "print(prod_array)"
   ]
  },
  {
   "cell_type": "markdown",
   "id": "572dc734-51a1-4407-a83a-b4d04a5093c7",
   "metadata": {},
   "source": [
    "### 2.3.3 矩阵乘法形态\n",
    "图2中列出了常见的矩阵乘法形态，每种形态对应一类线性代数问题。  \n",
    "![图2.矩阵乘法形态多样性](images/2.png)\n",
    "<center>图2.矩阵乘法形态多样性</center>\n",
    "\n",
    "### 2.3.4 两个向量相乘\n",
    "1. 向量${a}$和${b}$为等长列向量，${a}$转置(${a}^{T}$)乘${b}$为标量，等价于${a}$和${b}$的标量积：\n",
    "$${{a}^{T}b={a \\cdot b}}$$  \n",
    "例如：\n",
    "$${{a}^{T}b=\\begin{bmatrix}1 \\\\ 2 \\\\ 3\\end{bmatrix}^{T}_{3 \\times 1}@\\begin{bmatrix}4 \\\\ 3 \\\\ 2\\end{bmatrix}_{3 \\times 1}=\\begin{bmatrix}1 & 2 & 3\\end{bmatrix}_{1 \\times 3}@\\begin{bmatrix}4 \\\\ 3 \\\\ 2\\end{bmatrix}_{3 \\times 1}=\\begin{bmatrix}1 & 2 & 3\\end{bmatrix} \\cdot \\begin{bmatrix}4 & 3 & 2\\end{bmatrix}=16}$$  \n",
    "\n",
    "2. 列向量${a}$乘${b}$转置(${b}^{T}$)，乘积结果${ab^{T}}$为矩阵：\n",
    "$${{a}b^{T}=\\begin{bmatrix}1 \\\\ 2 \\\\ 3\\end{bmatrix}_{3 \\times 1}@\\begin{bmatrix}4 \\\\ 3 \\\\ 2\\end{bmatrix}^{T}_{3 \\times 1}=\\begin{bmatrix}1 \\\\ 2 \\\\ 3\\end{bmatrix}_{3 \\times 1}@\\begin{bmatrix}4 & 3 & 2\\end{bmatrix}_{1 \\times 3}=\\begin{bmatrix}4 & 3 & 2 \\\\ 8 & 6 & 4 \\\\ 12 & 9 & 6\\end{bmatrix}}$$  \n",
    "$${{a}b^{T}=\\begin{bmatrix}1 \\\\ 2\\end{bmatrix}_{2 \\times 1}@\\begin{bmatrix}4 \\\\ 3 \\\\ 2\\end{bmatrix}^{T}_{3 \\times 1}=\\begin{bmatrix}1 \\\\ 2\\end{bmatrix}_{2 \\times 1}@\\begin{bmatrix}4 & 3 & 2\\end{bmatrix}_{3 \\times 1}=\\begin{bmatrix}4 & 3 & 2 \\\\ 8 & 6 & 4\\end{bmatrix}}$$  \n",
    "\n",
    "列向量与行向量乘积为矩阵，乘积矩阵具有以下**特点**：  \n",
    "(1). 矩阵的行数等于列向量长度，矩阵的列数等于行向量长度；  \n",
    "(2). 矩阵**各列**为列向量乘以某个倍数后的列向量，倍数为相应位置上行向量的值；  \n",
    "(3). 矩阵**各行**为行向量乘以某个倍数后的行向量，倍数为相应位置上列向量的值。"
   ]
  },
  {
   "cell_type": "markdown",
   "id": "1908c08a-9316-4b24-8d0b-136804876d2f",
   "metadata": {},
   "source": [
    "## 2.4 矩阵乘法的第一视角\n",
    "### 2.4.1 两个${2 \\times 2}$相乘\n",
    "由上一节中${{a}^{T}b={a \\cdot b}}$。我们可以将2.3.2节的${A}$写成两个行向量${{a}^{(1)}}$与${{a}^{(2)}}$，将${B}$写成两个列向量${{a}_{1}}$与${{b}_{2}}$，即\n",
    "$${A=\\begin{bmatrix}\\underbrace{\\begin{bmatrix}1 & 2\\end{bmatrix}}_{{a}^{(1)}} \\\\ \\underbrace{\\begin{bmatrix}3 & 4\\end{bmatrix}}_{{a}^{(2)}}\\end{bmatrix}, B=\\begin{bmatrix}\\underbrace{\\begin{bmatrix}4 \\\\ 3\\end{bmatrix}}_{{b}_{1}} & \\underbrace{\\begin{bmatrix}2 \\\\ 1\\end{bmatrix}}_{{b}_{2}}\\end{bmatrix}}$$  \n",
    "这样一来，${AB}$矩阵乘积可以写成：\n",
    "$${A@B=\\begin{bmatrix}\\underbrace{\\begin{bmatrix}1 & 2\\end{bmatrix}}_{{a}^{(1)}} \\\\ \\underbrace{\\begin{bmatrix}3 & 4\\end{bmatrix}}_{{a}^{(2)}}\\end{bmatrix}@\\begin{bmatrix}\\underbrace{\\begin{bmatrix}4 \\\\ 3\\end{bmatrix}}_{{b}_{1}} & \\underbrace{\\begin{bmatrix}2 \\\\ 1\\end{bmatrix}}_{{b}_{2}}\\end{bmatrix}=\\begin{bmatrix}\\begin{bmatrix}1 & 2\\end{bmatrix}@\\begin{bmatrix}4 \\\\ 3\\end{bmatrix} & \\begin{bmatrix}1 & 2\\end{bmatrix}@\\begin{bmatrix}2 \\\\ 1\\end{bmatrix} \\\\ \\begin{bmatrix}3 & 4\\end{bmatrix}@\\begin{bmatrix}4 \\\\ 3\\end{bmatrix} & \\begin{bmatrix}3 & 4\\end{bmatrix}@\\begin{bmatrix}2 \\\\ 1\\end{bmatrix}\\end{bmatrix}=\\begin{bmatrix}10 & 4 \\\\ 24 & 10\\end{bmatrix}}$$  \n",
    "\n",
    "### 2.4.2 更一般情况\n",
    "1. 在矩阵乘积中${AB}$中，左侧矩阵${A}$的形状为${m \\times p}$，将矩阵${A}$写成一组上下叠放的行向量${{a}^{(i)}}$：\n",
    "$${{A}_{m \\times p}=\\begin{bmatrix}{a}^{(1)} \\\\ {a}^{(2)} \\\\ \\vdots \\\\ {a}^{(m)}\\end{bmatrix}_{m \\times 1}}$$\n",
    "其中行向量${{a}^{(i)}}$列数为${p}$，即有${p}$个元素。  \n",
    "2. 右侧矩阵${B}$的形状为${p \\times n}$，将矩阵${B}$写为左右排列的列向量：\n",
    "$${{B}_{p \\times n}=\\begin{bmatrix}{b}_{1} & {b}_{2} & \\cdots & {b}_{n}\\end{bmatrix}_{1 \\times n}}$$  \n",
    "其中列向量${{b}_{j}}$行数为${p}$。  \n",
    "因此，${A}$和${B}$相乘，可以展开为：\n",
    "$${{A}_{m \\times p}@{B}_{p \\times n}=\\begin{bmatrix}{a}^{(1)} \\\\ {a}^{(2)} \\\\ \\vdots \\\\ {a}^{(m)}\\end{bmatrix}_{m \\times 1}\\begin{bmatrix}{b}_{1} & {b}_{2} & \\cdots & {b}_{n}\\end{bmatrix}_{1 \\times n}=\\begin{bmatrix}{a}^{(1)}{b}_{1} & {a}^{(1)}{b}_{2} & \\cdots & {a}^{(1)}{b}_{n} \\\\ {a}^{(2)}{b}_{1} & {a}^{(2)}{b}_{2} & \\cdots & {a}^{(2)}{b}_{n} \\\\ \\vdots & \\vdots & \\ddots & \\vdots \\\\ {a}^{(m)}{b}_{1} & {a}^{(m)}{b}_{2} & \\cdots & {a}^{(m)}{b}_{n} \\\\\\end{bmatrix}_{m \\times n}={C}_{m \\times n}}$$\n",
    "\n",
    "### 2.4.3 热图\n",
    "图3所示为**热图**可视化矩阵乘法  \n",
    "![图3.矩阵乘法热图显示](images/3.png)\n",
    "<center>图3.矩阵乘法热图显示</center>  \n",
    "具体如图4所示，${A}$中的第${i}$行向量${{a}^{(i)}}$乘以${B}$中第${j}$列向量${{b}_{j}}$，得到标量${{a}^{(i)}{b}_{j}}$，对应乘积矩阵${C}$中第${i}$行、第${j}$列元素${{c}_{i,j}}$，即：\n",
    "$${{c}_{i,j}={a}^{(i)}{b}_{j}}$$  \n",
    "\n",
    "![图4.矩阵乘法第一视角](images/4.png)\n",
    "<center>图4.矩阵乘法第一视角</center>  "
   ]
  },
  {
   "cell_type": "code",
   "execution_count": 4,
   "id": "c0317dda-f9f6-466b-aecf-fd6de046be47",
   "metadata": {},
   "outputs": [
    {
     "data": {
      "text/plain": [
       "(array([0.5, 1.5, 2.5, 3.5, 4.5, 5.5]),\n",
       " [Text(0, 0.5, '1'),\n",
       "  Text(0, 1.5, '2'),\n",
       "  Text(0, 2.5, '3'),\n",
       "  Text(0, 3.5, '4'),\n",
       "  Text(0, 4.5, '5'),\n",
       "  Text(0, 5.5, '6')])"
      ]
     },
     "execution_count": 4,
     "metadata": {},
     "output_type": "execute_result"
    },
    {
     "data": {
      "image/png": "[encoded data removed]",
      "text/plain": [
       "<Figure size 1200x300 with 8 Axes>"
      ]
     },
     "metadata": {},
     "output_type": "display_data"
    }
   ],
   "source": [
    "# 矩阵乘法第一视角\n",
    "\n",
    "import numpy as np\n",
    "from matplotlib import pyplot as plt\n",
    "import seaborn as sns\n",
    "\n",
    "# Repeatability\n",
    "np.random.seed(7)\n",
    "\n",
    "\"\"\"Generate matrix A and B\"\"\"\n",
    "m = 6\n",
    "p = 3\n",
    "n = 4\n",
    "\n",
    "A = np.random.uniform(-1,1,m*p).reshape(m, p)\n",
    "B = np.random.uniform(-1,1,p*n).reshape(p, n)\n",
    "\n",
    "C = A@B\n",
    "\n",
    "all_max = 1\n",
    "all_min = -1\n",
    "\n",
    "#%% matrix multiplication, first perspective\n",
    "\n",
    "fig, axs = plt.subplots(1, 5, figsize=(12, 3))\n",
    "\n",
    "plt.sca(axs[0])\n",
    "ax = sns.heatmap(A,cmap='RdBu_r',vmax = all_max,vmin = all_min,\n",
    "                 cbar_kws={\"orientation\": \"horizontal\"},\n",
    "                 yticklabels=np.arange(1,m+1), xticklabels=np.arange(1,p+1))\n",
    "ax.set_aspect(\"equal\")\n",
    "plt.title('$A$')\n",
    "plt.yticks(rotation=0) \n",
    "\n",
    "plt.sca(axs[1])\n",
    "plt.title('$@$')\n",
    "plt.axis('off')\n",
    "\n",
    "plt.sca(axs[2])\n",
    "ax = sns.heatmap(B,cmap='RdBu_r',vmax = all_max,vmin = all_min,\n",
    "                 cbar_kws={\"orientation\": \"horizontal\"},\n",
    "                 yticklabels=np.arange(1,p+1), xticklabels=np.arange(1,n+1))\n",
    "ax.set_aspect(\"equal\")\n",
    "plt.title('$B$')\n",
    "plt.yticks(rotation=0) \n",
    "\n",
    "plt.sca(axs[3])\n",
    "plt.title('$=$')\n",
    "plt.axis('off')\n",
    "\n",
    "plt.sca(axs[4])\n",
    "ax = sns.heatmap(C,cmap='RdBu_r',vmax = all_max,vmin = all_min,\n",
    "                 cbar_kws={\"orientation\": \"horizontal\"},\n",
    "                 yticklabels=np.arange(1,m+1), xticklabels=np.arange(1,n+1))\n",
    "ax.set_aspect(\"equal\")\n",
    "plt.title('$C$')\n",
    "plt.yticks(rotation=0) "
   ]
  },
  {
   "cell_type": "markdown",
   "id": "ce376f22-ef7d-4e5e-8a2a-2a16730a23f9",
   "metadata": {},
   "source": [
    "## 2.5 矩阵乘法第二视角\n",
    "### 2.5.1 两个${2 \\times 2}$矩阵相乘\n",
    "这里仍然使用2.3.2节中的矩阵${A}$和${B}$，将${A}$写成两个列向量${{a}_{1}}$和${{a}_{2}}$，将${B}$写成两个行向量${{b}^{(1)}}$和${{b}^{(2)}}$：\n",
    "$${A=\\begin{bmatrix}\\underbrace{\\begin{bmatrix}1 \\\\ 3\\end{bmatrix}}_{{a}_{1}} & \\underbrace{\\begin{bmatrix}2 \\\\ 4\\end{bmatrix}}_{{a}_{2}}\\end{bmatrix}, B=\\begin{bmatrix}\\underbrace{\\begin{bmatrix}4 & 2\\end{bmatrix}}_{{b}^{(1)}} \\\\ \\underbrace{\\begin{bmatrix}3 & 1\\end{bmatrix}}_{{b}^{(2)}}\\end{bmatrix}}$$  \n",
    "这样${AB}$乘积可以展开写为：\n",
    "$$\n",
    "    A=\n",
    "        \\begin{bmatrix}\n",
    "            \\underbrace{\n",
    "                \\begin{bmatrix}\n",
    "                    1 \\\\ 3\n",
    "                \\end{bmatrix}}\n",
    "            _{{a}_{1}} & \n",
    "            \\underbrace{\n",
    "                \\begin{bmatrix}\n",
    "                    2 \\\\ 4\n",
    "                \\end{bmatrix}}\n",
    "            _{{a}_{2}}\n",
    "        \\end{bmatrix}@\n",
    "    B=\n",
    "        \\begin{bmatrix}\n",
    "            \\underbrace{\n",
    "                \\begin{bmatrix}\n",
    "                    4 & 2\n",
    "                \\end{bmatrix}}_{{b}^{(1)}} \\\\ \n",
    "            \\underbrace{\n",
    "                \\begin{bmatrix}\n",
    "                    3 & 1\n",
    "                \\end{bmatrix}}\n",
    "            _{{b}^{(2)}}\n",
    "        \\end{bmatrix}=\n",
    "    \\underbrace{\n",
    "        \\begin{bmatrix}\n",
    "            1 \\\\ 3\n",
    "        \\end{bmatrix}}\n",
    "    _{{a}_{1}}@\n",
    "    \\underbrace{\n",
    "        \\begin{bmatrix}\n",
    "            4 & 2\n",
    "        \\end{bmatrix}}\n",
    "    _{{b}^{(1)}}+\n",
    "    \\underbrace{\n",
    "        \\begin{bmatrix}\n",
    "            2 \\\\ 4\n",
    "        \\end{bmatrix}}\n",
    "    _{{a}_{2}}@\n",
    "    \\underbrace{\n",
    "        \\begin{bmatrix}\n",
    "            3 & 1\n",
    "        \\end{bmatrix}}\n",
    "    _{{b}^{(2)}} \\\\ \n",
    "    = \n",
    "    \\begin{bmatrix}\n",
    "        4 & 2 \\\\ 12 & 6\n",
    "    \\end{bmatrix}+\n",
    "    \\begin{bmatrix}\n",
    "        6 & 2 \\\\ 12 & 4\n",
    "    \\end{bmatrix}=\n",
    "    \\begin{bmatrix}\n",
    "        10 & 4 \\\\ 23 & 10\n",
    "    \\end{bmatrix}\n",
    "$$  \n",
    "\n",
    "### 2.5.2 更一般情况\n",
    "将矩阵${A}_{m \\times p}$写成一系列左右排列的列向量：\n",
    "$$\n",
    "    {A}_{m \\times p}=\n",
    "    \\begin{bmatrix}\n",
    "        {a}_{1} & {a}_{2} & \\cdots & {a}_{p}\n",
    "    \\end{bmatrix}_{1 \\times p}\n",
    "$$  \n",
    "向量${a}_{i}$元素数量为$m$，即行数为$m$。 \n",
    "\n",
    "将矩阵${B}_{p \\times n}$写成上下叠放的行向量：\n",
    "$$\n",
    "    {B}_{p \\times n}=\n",
    "    \\begin{bmatrix}\n",
    "        {b}^{(1)} \\\\ {b}^{(2)} \\\\ \\vdots \\\\ {b}^{(p)}\n",
    "    \\end{bmatrix}_{p \\times 1}\n",
    "$$  \n",
    "向量${b}^{(j)}$元素数量为$n$，即行数为$n$。 \n",
    "\n",
    "则矩阵$A$和矩阵$B$相乘，可以展开成$p$个$m \\times n$矩阵相加，即：\n",
    "$$\n",
    "    {A}_{m \\times p}@{B}_{p \\times n}=\n",
    "    \\begin{bmatrix}\n",
    "        {a}_{1} & {a}_{2} & \\cdots & {a}_{p}\n",
    "    \\end{bmatrix}_{1 \\times p}\n",
    "    \\begin{bmatrix}\n",
    "        {b}^{(1)} \\\\ {b}^{(2)} \\\\ \\vdots \\\\ {b}^{(p)}\n",
    "    \\end{bmatrix}_{p \\times 1} \\\\ =\n",
    "    \\underbrace{\n",
    "        {a}_{1}{b}^{(1)}+{a}_{2}{b}^{(2)}+\\cdots+{a}_{p}{b}^{(p)}\n",
    "    }_{p\\, matrices\\, with\\, shape\\, of\\, m \\times n}\n",
    "    ={C}_{m \\times n}\n",
    "$$  \n",
    "\n",
    "将${a}_{k}{b}^{(k)}$结果矩阵写为${C}_{k}$，这样$A$和$B$乘积$C$可以写为${C}_{k}(k=1,2,\\cdots,p)$之和：\n",
    "$$\n",
    "    {a}_{1}{b}^{(1)}+{a}_{2}{b}^{(2)}+\\cdots+{a}_{p}{b}^{(p)}\n",
    "    ={C}_{1}+{C}_{2}+\\cdots+{C}_{p}=C\n",
    "$$  \n",
    "这样一来，**矩阵的乘法变成若干矩阵的叠加**。\n",
    "\n",
    "### 2.5.3 热图\n",
    "图5所示的是矩阵$A$，$B$乘法第二视角的热图：  \n",
    "![图5.矩阵乘法第二视角](images/5.png)  \n",
    "<center>图5.矩阵乘法第二视角</center>  \n",
    "\n",
    "\n",
    "可以认为最终的热图由若干相同的热图叠加而成，如图6：  \n",
    "![图6.三幅图像叠加得到矩阵C热图](images/6.png)  \n",
    "<center>图6.三幅图像叠加得到矩阵C热图</center>  \n",
    "\n",
    "\n",
    "图7、图8、图9分别展示如何获得图12中矩阵${C}_{1}、{C}_{2}、{C}_{3}$的热图：  \n",
    "![图7.获得${C}_{1}$](images/7.png)  \n",
    "<center>图7.获得${C}_{1}$</center>  \n",
    "\n",
    "\n",
    "![图8.获得${C}_{2}$](images/8.png)  \n",
    "<center>图8.获得${C}_{2}$</center>  \n",
    "\n",
    "\n",
    "![图9.获得${C}_{3}$](images/9.png)  \n",
    "<center>图9.获得${C}_{3}$</center>  "
   ]
  },
  {
   "cell_type": "code",
   "execution_count": 5,
   "id": "954611c7-4808-4861-a308-fa0ef47807a6",
   "metadata": {},
   "outputs": [
    {
     "data": {
      "text/plain": [
       "(array([0.5, 1.5, 2.5, 3.5, 4.5, 5.5]),\n",
       " [Text(0, 0.5, '1'),\n",
       "  Text(0, 1.5, '2'),\n",
       "  Text(0, 2.5, '3'),\n",
       "  Text(0, 3.5, '4'),\n",
       "  Text(0, 4.5, '5'),\n",
       "  Text(0, 5.5, '6')])"
      ]
     },
     "execution_count": 5,
     "metadata": {},
     "output_type": "execute_result"
    },
    {
     "data": {
      "image/png": "[encoded data removed]",
      "text/plain": [
       "<Figure size 1200x300 with 11 Axes>"
      ]
     },
     "metadata": {},
     "output_type": "display_data"
    }
   ],
   "source": [
    "\"\"\"矩阵乘法第二视角\"\"\"\n",
    "\n",
    "import numpy as np\n",
    "from matplotlib import pyplot as plt\n",
    "import seaborn as sns\n",
    "\n",
    "# Repeatability\n",
    "np.random.seed(7)\n",
    "\n",
    "# Generate matrix A and B\n",
    "m = 6\n",
    "p = 3\n",
    "n = 4\n",
    "\n",
    "A = np.random.uniform(-1,1,m*p).reshape(m, p)\n",
    "B = np.random.uniform(-1,1,p*n).reshape(p, n)\n",
    "\n",
    "C1 = A[:,[0]]@B[[0],:]\n",
    "\n",
    "C2 = A[:,[1]]@B[[1],:]\n",
    "\n",
    "C3 = A[:,[2]]@B[[2],:]\n",
    "\n",
    "fig, axs = plt.subplots(1, 7, figsize=(12, 3))\n",
    "\n",
    "plt.sca(axs[0])\n",
    "ax = sns.heatmap(C1,cmap='RdBu_r',vmax = all_max,vmin = all_min,\n",
    "                 cbar_kws={\"orientation\": \"horizontal\"},\n",
    "                 yticklabels=np.arange(1,m+1), xticklabels=np.arange(1,n+1))\n",
    "ax.set_aspect(\"equal\")\n",
    "plt.title('$C_1$')\n",
    "plt.yticks(rotation=0) \n",
    "\n",
    "plt.sca(axs[1])\n",
    "plt.title('$+$')\n",
    "plt.axis('off')\n",
    "\n",
    "plt.sca(axs[2])\n",
    "ax = sns.heatmap(C2,cmap='RdBu_r',vmax = all_max,vmin = all_min,\n",
    "                 cbar_kws={\"orientation\": \"horizontal\"},\n",
    "                 yticklabels=np.arange(1,m+1), xticklabels=np.arange(1,n+1))\n",
    "ax.set_aspect(\"equal\")\n",
    "plt.title('$C_2$')\n",
    "plt.yticks(rotation=0) \n",
    "\n",
    "plt.sca(axs[3])\n",
    "plt.title('$+$')\n",
    "plt.axis('off')\n",
    "\n",
    "plt.sca(axs[4])\n",
    "ax = sns.heatmap(C3,cmap='RdBu_r',vmax = all_max,vmin = all_min,\n",
    "                 cbar_kws={\"orientation\": \"horizontal\"},\n",
    "                 yticklabels=np.arange(1,m+1), xticklabels=np.arange(1,n+1))\n",
    "ax.set_aspect(\"equal\")\n",
    "plt.title('$C_3$')\n",
    "plt.yticks(rotation=0) \n",
    "\n",
    "plt.sca(axs[5])\n",
    "plt.title('$=$')\n",
    "plt.axis('off')\n",
    "\n",
    "plt.sca(axs[6])\n",
    "ax = sns.heatmap(C,cmap='RdBu_r',vmax = all_max,vmin = all_min,\n",
    "                 cbar_kws={\"orientation\": \"horizontal\"},\n",
    "                 yticklabels=np.arange(1,m+1), xticklabels=np.arange(1,n+1))\n",
    "ax.set_aspect(\"equal\")\n",
    "plt.title('$C$')\n",
    "plt.yticks(rotation=0) "
   ]
  },
  {
   "cell_type": "markdown",
   "id": "c00381d3-6e94-48ce-b167-5cd00d1fbb28",
   "metadata": {},
   "source": [
    "## 2.6 矩阵除法：计算逆矩阵\n",
    "实际上并不存在所谓的*矩阵除法*。\n",
    "所谓矩阵$B$除以矩阵$A$，实际上将矩阵$A$先转化为逆矩阵${A}^{-1}$，然后计算$B$和逆矩阵${A}^{-1}$乘积，即：\n",
    "$$B{A}^{-1}=B@{A}^{-1}$$  \n",
    "$A$如果**可逆**，当且仅当$A$为方阵且存在矩阵${A}^{-1}$是的下式成立：  \n",
    "$$A{A}^{-1}={A}^{-1}A=I$$  \n",
    "${A}^{-1}$叫做**矩阵$A$的逆**。  \n",
    "$I$就是**单位阵**，n阶单位矩阵的形式为：  \n",
    "$$\n",
    "    {I}_{n \\times n}=\n",
    "    \\begin{bmatrix}\n",
    "        1 & 0 & \\cdots & 0 \\\\\n",
    "        0 & 1 & \\cdots & 0 \\\\\n",
    "        \\vdots & \\vdots & \\ddots & \\vdots \\\\\n",
    "        0 & 0 & \\cdots & 1\n",
    "    \\end{bmatrix}\n",
    "$$  \n",
    "图10所示为方阵$A$和逆矩阵${A}^{-1}$相乘得到单位矩阵$I$的热图：  \n",
    "![图10.方阵$A$和逆矩阵${A}^{-1}$相乘](images/10.png)\n",
    "<center>图10.方阵$A$和逆矩阵${A}^{-1}$相乘</center>  \n",
    "\n",
    "运算规则：\n",
    "1. 一般情况下，${(A+B)}^{-1} \\neq {A}^{-1}+{B}^{-1}$  \n",
    "2. ${({A}^{\\rm T})}^{-1}={({A}^{-1})}^{\\rm T}$  \n",
    "3. ${(AB)}^{-1}={B}^{-1}{A}^{-1}$  \n",
    "4. ${(ABC)}^{-1}={C}^{-1}{B}^{-1}{A}^{-1}$\n",
    "5. ${(kA)}^{-1}=\\frac{1}{k}{A}^{-1}$  \n",
    "\n",
    "其中假设A、B、C、AB和ABC的逆运算均存在。\n",
    "\n",
    "## 2.7 英文对照\n",
    "\n",
    "|数学表达|英文表达|\n",
    "|:---|:---|\n",
    "|${A}^{-1}$|Inverse of the matrix boldface capital $A$<br>Matrix boldface capital $A$ inverse|  \n",
    "|${(A+B)}^{-1}$|Left parenthesis boldface capital $A$ plus boldface capital $B$ right parenthesis superscript minus one<br>Inverse of the matrix sum boldface capital $A$ plus boldface $B$|  \n",
    "|${AB}^{-1}$|Left parenthesis boldface capital $A$ times boldface $B$ right parenthesis superscript minus one<br>Inverse of the matrix product boldface capital $A$ and boldface capital $B$|  \n",
    "|$AB{C}^{-1}$|The product boldface capital $A$ boldface $B$ boldface capital $C$ inverse|\n",
    "<center>表4.数学英文对照表</center>"
   ]
  },
  {
   "cell_type": "code",
   "execution_count": 1,
   "id": "6b8e4991-55b3-40ea-8f6e-c8cb690bdf07",
   "metadata": {},
   "outputs": [
    {
     "data": {
      "text/plain": [
       "(array([0.5, 1.5, 2.5, 3.5]),\n",
       " [Text(0, 0.5, '1'), Text(0, 1.5, '2'), Text(0, 2.5, '3'), Text(0, 3.5, '4')])"
      ]
     },
     "execution_count": 1,
     "metadata": {},
     "output_type": "execute_result"
    },
    {
     "data": {
      "image/png": "[encoded data removed]",
      "text/plain": [
       "<Figure size 1200x300 with 8 Axes>"
      ]
     },
     "metadata": {},
     "output_type": "display_data"
    }
   ],
   "source": [
    "\"\"\"绘制逆矩阵的热图\"\"\"\n",
    "\n",
    "import numpy as np\n",
    "from numpy.linalg import inv\n",
    "from matplotlib import pyplot as plt\n",
    "import seaborn as sns\n",
    "\n",
    "# Repeatability\n",
    "np.random.seed(0)\n",
    "# Generate matrix A\n",
    "n = 4\n",
    "A = np.random.uniform(-1.5,1.5,n*n).reshape(n, n)\n",
    "\n",
    "all_max = 1.5\n",
    "all_min = -1.5\n",
    "\n",
    "# matrix inverse\n",
    "A_inverse = inv(A)\n",
    "\n",
    "fig, axs = plt.subplots(1, 5, figsize=(12, 3))\n",
    "\n",
    "plt.sca(axs[0])\n",
    "ax = sns.heatmap(A,cmap='RdBu_r',vmax = all_max,vmin = all_min,\n",
    "                 cbar_kws={\"orientation\": \"horizontal\"},\n",
    "                 yticklabels=np.arange(1,n+1), xticklabels=np.arange(1,n+1),\n",
    "                 annot = True,fmt=\".2f\")\n",
    "ax.set_aspect(\"equal\")\n",
    "plt.title('$A$')\n",
    "plt.yticks(rotation=0) \n",
    "\n",
    "plt.sca(axs[1])\n",
    "plt.title('$@$')\n",
    "plt.axis('off')\n",
    "\n",
    "plt.sca(axs[2])\n",
    "ax = sns.heatmap(A_inverse,cmap='RdBu_r',vmax = all_max,vmin = all_min,\n",
    "                 cbar_kws={\"orientation\": \"horizontal\"},\n",
    "                 yticklabels=np.arange(1,n+1), xticklabels=np.arange(1,n+1),\n",
    "                 annot = True,fmt=\".2f\")\n",
    "ax.set_aspect(\"equal\")\n",
    "plt.title('$A^{-1}$')\n",
    "plt.yticks(rotation=0) \n",
    "\n",
    "plt.sca(axs[3])\n",
    "plt.title('$=$')\n",
    "plt.axis('off')\n",
    "\n",
    "plt.sca(axs[4])\n",
    "ax = sns.heatmap(A@A_inverse,cmap='RdBu_r',vmax = all_max,vmin = all_min,\n",
    "                 cbar_kws={\"orientation\": \"horizontal\"},\n",
    "                 yticklabels=np.arange(1,n+1), xticklabels=np.arange(1,n+1),\n",
    "                 annot = True,fmt=\".2f\")\n",
    "ax.set_aspect(\"equal\")\n",
    "plt.title('$I$')\n",
    "plt.yticks(rotation=0) \n"
   ]
  }
 ],
 "metadata": {
  "kernelspec": {
   "display_name": "Machine Learning",
   "language": "python",
   "name": "ml"
  },
  "language_info": {
   "codemirror_mode": {
    "name": "ipython",
    "version": 3
   },
   "file_extension": ".py",
   "mimetype": "text/x-python",
   "name": "python",
   "nbconvert_exporter": "python",
   "pygments_lexer": "ipython3",
   "version": "3.10.11"
  }
 },
 "nbformat": 4,
 "nbformat_minor": 5
}

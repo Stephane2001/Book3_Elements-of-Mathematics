{
 "cells": [
  {
   "cell_type": "markdown",
   "id": "a6affa1f-6856-4b3e-bda5-1bb660dadb3d",
   "metadata": {
    "tags": []
   },
   "source": [
    "# <center>Chapter_1</center>\n",
    "\n",
    "**需要用到的函数**\n",
    "```python\n",
    "\"\"\"\n",
    "\n",
    "float()             将输入转化为浮点数\n",
    "input()             函数接受一个标准输入数据，返回为字符串str类型\n",
    "int()               将输入转化为整数\n",
    "is_integer()        判断是否为整数\n",
    "lambda()            构造匿名函数\n",
    "len()               返回序列或者数据帧的数据数量\n",
    "math.e              math库中的欧拉数\n",
    "math.pi             math库中的圆周率\n",
    "math.sqrt(2)        math库计算2的平方根\n",
    "mpmath.e            mpmath库中的欧拉数\n",
    "mpmath.pi           mpmath库中的圆周率\n",
    "mpmath.sqrt(2)      mpmath库计算2的平方根\n",
    "numpy.add()         向量或矩阵加法\n",
    "numpy.array()       构造数组、向量或矩阵\n",
    "numpy.cusum()       计算累计求和\n",
    "numpy.linspace()    在指定的间隔内，返回固定步长数组\n",
    "numpy.matrix()      构造二维矩阵\n",
    "print()             在console打印\n",
    "range()             返回的是一个可迭代对象\n",
    "zip(*)              将可迭代对象作为参数，让对象中对应的元素打包成一个个元组，然后返回由这些元组组成的列表\n",
    "                    *代表解包，返回的每一个都是元组类型，而非是原来的数据类型\n",
    "\n",
    "\"\"\"\n",
    "```"
   ]
  },
  {
   "cell_type": "code",
   "execution_count": 1,
   "id": "dbbd8b3d-c124-415b-9051-2691d65e8719",
   "metadata": {},
   "outputs": [],
   "source": [
    "# 需要的库文件\n",
    "\n",
    "import math\n",
    "from mpmath import mp\n",
    "import numpy as np"
   ]
  },
  {
   "cell_type": "markdown",
   "id": "37469c92-c6e0-412a-b9ef-769996b7d69a",
   "metadata": {},
   "source": [
    "## <center>1.2 数字分类： 从复数到自然数</center>\n",
    "### 1.2.1 复数\n",
    "复数包括实数和虚数。复数集为C。\n",
    "复数的具体形式为：${a + bi}$\n",
    "- 其中a和b是实数，i是虚数单位，有${i^2 = -1}$\n",
    "\n",
    "### 1.2.2 实数\n",
    "实数集记号为R。实数包括有理数和无理数。实数集合可以用实数轴来展示。\n",
    "- 有理数：集合用Q表示，有理数可以表示为两个整数的商，比如$\\frac{a}{b}$\n",
    "    - 其中a为分子，b为分母，并且分母不为零。\n",
    "    - 有理数可以表达为有限小数或无限循环小数。\n",
    "- 无理数：也叫无限不循环小数。\n",
    "    - 有很多重要数值都是无理数，例如${\\pi}$、${\\sqrt{2}}$、${e}$等。"
   ]
  },
  {
   "cell_type": "code",
   "execution_count": 10,
   "id": "f3fa029d-75ef-4dd9-a0db-4b9cc561cbdc",
   "metadata": {},
   "outputs": [
    {
     "name": "stdout",
     "output_type": "stream",
     "text": [
      "3.141592653589793\n",
      "2.718281828459045\n",
      "1.4142135623730951\n"
     ]
    }
   ],
   "source": [
    "\"\"\"打印pi、sqrt(2)、e的精确值\"\"\"\n",
    "\n",
    "import math\n",
    "\n",
    "print(math.pi)\n",
    "print(math.e)\n",
    "print(math.sqrt(2))"
   ]
  },
  {
   "cell_type": "code",
   "execution_count": 11,
   "id": "486dbdae-b95d-42e1-96a3-f269c9df9881",
   "metadata": {},
   "outputs": [
    {
     "name": "stdout",
     "output_type": "stream",
     "text": [
      "\n",
      "print 1000 digits of pi behind decimal point: \n",
      "\n",
      "3.1415926535897932384626433832795028841971693993751058209749445923078164062862089986280348253421170679821480865132823066470938446095505822317253594081284811174502841027019385211055596446229489549303819644288109756659334461284756482337867831652712019091456485669234603486104543266482133936072602491412737245870066063155881748815209209628292540917153643678925903600113305305488204665213841469519415116094330572703657595919530921861173819326117931051185480744623799627495673518857527248912279381830119491298336733624406566430860213949463952247371907021798609437027705392171762931767523846748184676694051320005681271452635608277857713427577896091736371787214684409012249534301465495853710507922796892589235420199561121290219608640344181598136297747713099605187072113499999983729780499510597317328160963185950244594553469083026425223082533446850352619311881710100031378387528865875332083814206171776691473035982534904287554687311595628638823537875937519577818577805321712268066130019278766111959092164201989\n",
      "\n",
      "print 1000 digits of e behind decimal point: \n",
      "\n",
      "2.7182818284590452353602874713526624977572470936999595749669676277240766303535475945713821785251664274274663919320030599218174135966290435729003342952605956307381323286279434907632338298807531952510190115738341879307021540891499348841675092447614606680822648001684774118537423454424371075390777449920695517027618386062613313845830007520449338265602976067371132007093287091274437470472306969772093101416928368190255151086574637721112523897844250569536967707854499699679468644549059879316368892300987931277361782154249992295763514822082698951936680331825288693984964651058209392398294887933203625094431173012381970684161403970198376793206832823764648042953118023287825098194558153017567173613320698112509961818815930416903515988885193458072738667385894228792284998920868058257492796104841984443634632449684875602336248270419786232090021609902353043699418491463140934317381436405462531520961836908887070167683964243781405927145635490613031072085103837505101157477041718986106873969655212671546889570350354\n",
      "\n",
      "print 1000 digits of sqrt(2) behind decimal point: \n",
      "\n",
      "1.4142135623730950488016887242096980785696718753769480731766797379907324784621070388503875343276415727350138462309122970249248360558507372126441214970999358314132226659275055927557999505011527820605714701095599716059702745345968620147285174186408891986095523292304843087143214508397626036279952514079896872533965463318088296406206152583523950547457502877599617298355752203375318570113543746034084988471603868999706990048150305440277903164542478230684929369186215805784631115966687130130156185689872372352885092648612494977154218334204285686060146824720771435854874155657069677653720226485447015858801620758474922657226002085584466521458398893944370926591800311388246468157082630100594858704003186480342194897278290641045072636881313739855256117322040245091227700226941127573627280495738108967504018369868368450725799364729060762996941380475654823728997180326802474420629269124859052181004459842150591120249441341728531478105803603371077309182869314710171111683916581726889419758716582152128229518488472\n"
     ]
    }
   ],
   "source": [
    "\"\"\"打印pi、sqrt(2)、e的精确值（精确到小数点后1000位）\"\"\"\n",
    "\n",
    "from mpmath import mp\n",
    "\n",
    "mp.dps = 1000 + 1  # 精度为1000 + 1\n",
    "\n",
    "print(\"\\nprint 1000 digits of pi behind decimal point: \\n\")\n",
    "print(mp.pi)\n",
    "\n",
    "print(\"\\nprint 1000 digits of e behind decimal point: \\n\")\n",
    "print(mp.e)\n",
    "\n",
    "print(\"\\nprint 1000 digits of sqrt(2) behind decimal point: \\n\")\n",
    "print(mp.sqrt(2))"
   ]
  },
  {
   "cell_type": "markdown",
   "id": "98a8ca06-8591-4dae-ac05-8b69e20db0c2",
   "metadata": {},
   "source": [
    "### 1.2.3 整数\n",
    "整数包括正整数、负整数和零。\n",
    "- 正整数**大于零**， 负整数**小于零**。整数集用Z表示。\n",
    "- 整数的重要性质\n",
    "    - 整数**相加**、**相减**或**相乘**的结果依然是整数。\n",
    "    - 奇偶性\n",
    "        - 能被2整数的整数称为**偶数**；\n",
    "        - 否则为**奇数**。"
   ]
  },
  {
   "cell_type": "code",
   "execution_count": 14,
   "id": "7531fc0f-29c8-482f-bba9-ba67aae2c6b9",
   "metadata": {},
   "outputs": [
    {
     "name": "stdin",
     "output_type": "stream",
     "text": [
      "Enter a number:  1\n"
     ]
    },
    {
     "name": "stdout",
     "output_type": "stream",
     "text": [
      "The number 1 is an odd.\n"
     ]
    }
   ],
   "source": [
    "\"\"\"判断数字的奇偶性\"\"\"\n",
    "\n",
    "number = float(input(\"Enter a number: \"))\n",
    "\n",
    "if number.is_integer():\n",
    "    if (number % 2) == 0:\n",
    "        print(\"The number {0} is an even.\".format(int(number)))\n",
    "    else:\n",
    "        print(\"The number {0} is an odd.\".format(int(number)))\n",
    "\n",
    "else:\n",
    "    print(\"The number {0} is not a integer.\".format(number))"
   ]
  },
  {
   "cell_type": "markdown",
   "id": "612d6ac7-e846-4142-b709-544f1770a6c2",
   "metadata": {},
   "source": [
    "### 1.2.4 自然数\n",
    "自然数有时候指的是正整数，有时候指非负整数，0是否属于自然数，还存在争议。\n",
    "    \n",
    "### 1.2.5 英文对照\n",
    "下表展示了本节出现的名词的中英文对照，部分有相应的举例。\n",
    "    \n",
    "|英文表达|汉语表达|举例|\n",
    "|:---:  |:---:   |:---:|\n",
    "|**complex number**|复数|3+7i|\n",
    "|**real number**|实数|10|\n",
    "|**imaginary number**|虚数|6i|\n",
    "|**imaginary unit**|虚数单位|i|\n",
    "|**rational number**|有理数|30|\n",
    "|**irrational number**|无理数|${\\pi}$|\n",
    "|**number line**|数轴|\n",
    "|**quotient**|商|\n",
    "|**numerator**|分子|\n",
    "|**denominator**|分母|\n",
    "|**decimal separator**|小数点|\n",
    "|**exponential constant**|自然常数|*e*|\n",
    "|**natural numbers**|自然数|20|\n",
    "|**parity**|奇偶性||\n",
    "|**even**|偶数|2|\n",
    "|**odd**|奇数|1|\n",
    "|**the set of complex number**|复数集|*C*|\n",
    "|**the set of real number**|实数集|*R*|\n",
    "|**the set of rational number**|有理数集|*Q*|\n",
    "\n",
    "<center>表1. 中英文名词对照表</center>\n",
    "\n",
    "    \n",
    "\n",
    "## <center>1.3 加减： 最基本的数学运算</center>\n",
    "\n",
    "### 1.3.1 加法\n",
    "**加法**的运算符为**加号**；\n",
    "在加法算式中，**等式**的左边为**加数**和**被加数**，等式的右边是**和**。\n",
    "\n",
    "加法的表达方式有\n",
    "- 和\n",
    "- 加\n",
    "- 增长\n",
    "- 小计\n",
    "- 总数\n",
    "\n",
    "\n",
    "\n"
   ]
  },
  {
   "cell_type": "code",
   "execution_count": 15,
   "id": "74e7413b-cdec-4581-8cea-86722c994dae",
   "metadata": {},
   "outputs": [
    {
     "name": "stdin",
     "output_type": "stream",
     "text": [
      "Enter first number:  12.2\n",
      "Enter second number:  10.9\n"
     ]
    },
    {
     "name": "stdout",
     "output_type": "stream",
     "text": [
      "The sum of 12.2 and 10.9 is 23.1\n"
     ]
    }
   ],
   "source": [
    "\"\"\"加法运算\"\"\"\n",
    "\n",
    "# user input numbers\n",
    "num1 = input('Enter first number: ')\n",
    "num2 = input('Enter second number: ')\n",
    "\n",
    "# add two numbers\n",
    "sum = float(num1) + float(num2)\n",
    "\n",
    "# display the computation\n",
    "print('The sum of {0} and {1} is {2}'.format(num1, num2, sum))"
   ]
  },
  {
   "cell_type": "markdown",
   "id": "83613862-1f1d-48ad-b661-af316faaba5d",
   "metadata": {
    "tags": []
   },
   "source": [
    "### 1.3.2 累计求和\n",
    "\n",
    "累计求和得到的结果不是一个总和，而是从左向右每加一个数值，得到的分步结果。例如，自然数1到10的累计求和结果为：\n",
    "- 1, 3, 6, 10, 15, 21, 28, 36, 45, 55\n",
    "\n"
   ]
  },
  {
   "cell_type": "code",
   "execution_count": 3,
   "id": "07e2bd67-dc02-4b29-9e1e-0867a9264cf3",
   "metadata": {},
   "outputs": [
    {
     "name": "stdout",
     "output_type": "stream",
     "text": [
      "[ 1.  2.  3.  4.  5.  6.  7.  8.  9. 10.]\n",
      "[ 1.  3.  6. 10. 15. 21. 28. 36. 45. 55.]\n"
     ]
    }
   ],
   "source": [
    "\"\"\"对1到10这十个自然数进行累加\"\"\"\n",
    "\n",
    "a_i = np.linspace(1,10,10)\n",
    "print(a_i)\n",
    "\n",
    "a_i_cumsum = np.cumsum(a_i)\n",
    "print(a_i_cumsum)"
   ]
  },
  {
   "cell_type": "markdown",
   "id": "96993ba0-4122-4f91-8449-602e013a99bb",
   "metadata": {},
   "source": [
    "### 1.3.3 减法\n",
    "**减法**是**加法的逆运算**，运算符为**减号**。减法运算的过程为，**被减数**减去**减数**得到**差**。\n",
    "\n",
    "减法的表达方式有：\n",
    "- 减\n",
    "- 少\n",
    "- 差\n",
    "- 减少\n",
    "- 拿走\n",
    "- 扣除"
   ]
  },
  {
   "cell_type": "code",
   "execution_count": 4,
   "id": "9b2d380b-ed97-465f-8c69-ceff3a77a941",
   "metadata": {},
   "outputs": [
    {
     "name": "stdout",
     "output_type": "stream",
     "text": [
      "The difference of 5 and 3 is 2\n"
     ]
    }
   ],
   "source": [
    "\"\"\"减法运算\"\"\"\n",
    "\n",
    "num1 = 5\n",
    "num2 = 3\n",
    "\n",
    "# add two numbers\n",
    "diff = num1 - num2\n",
    "\n",
    "# display the computation\n",
    "print('The difference of {0} and {1} is {2}'.format(num1, num2, diff))"
   ]
  },
  {
   "cell_type": "markdown",
   "id": "3e51a32c-f042-47e1-a881-e633573b34dc",
   "metadata": {},
   "source": [
    "### 1.3.4 相反数\n",
    "\n",
    "求**相反数**的的过程是**改变符号**，这个操作被称为**变号**。例如。5的相反数是-5。\n",
    "\n",
    "### 1.3.5 中英文对照\n",
    "\n",
    "|数学表达|英文表达|\n",
    "|:---:|:---|\n",
    "|1+1=2|One plus one equals two.<br>The sum of one and one is two.<br>If you add one to one, you get two|\n",
    "|2+3=5|Two plus three equals five.<br>Two plus three is equal to five.<br>Three added to two makes five.<br>If you add two to three, you get five.|\n",
    "\n",
    "<center>表2. 加法的英文表达</center>\n",
    "\n",
    "|数学表达|英文表达|\n",
    "|:---:|:---|\n",
    "|5-3=2| Five minus three equals two.<br>Five minus three is equal to two.<br>Three substracted from five equals two.<br>If you substract three from five, you get two.<br>If you take three from five, you get two.|\n",
    "|4-6=-2|Four minus six equals negative two.<br>Four minus is equal to negative two.|\n",
    "<center>表3. 减法的英文表达</center>\n",
    "\n",
    "|英文表达|汉语表达|举例|\n",
    "|:---:|:---:|:---:|\n",
    "|**addition**|加法||\n",
    "|**plus sign, plus symbol**|加号|+|\n",
    "|**equation**|等式|\n",
    "|**addend, summand**|加数|3 in ***3+5=8***|\n",
    "|**augend, summand**|被加数|5 in ***3+5=8***|\n",
    "|**sum**|和|8 in ***3+5=8***|\n",
    "|**summation**|和||\n",
    "|**plus**|加||\n",
    "|**increase**|增长||\n",
    "|**subtotal**|小计||\n",
    "|**total**|总数||\n",
    "|**cumulative sum, cumulative total**|累计求和||\n",
    "|**subtraction**|减法||\n",
    "|**inverse operation of addition**|加法的逆运算||\n",
    "|**minus sign**|减号|-|\n",
    "|**minuend**|被减数|5 in ***5-2=3***|\n",
    "|**subtrahend**|减数|2 in ***5-2=3***|\n",
    "|**difference**|差|3 in ***5-2=3***|\n",
    "|**minus**|减||\n",
    "|**less**|少||\n",
    "|**decrease**|减少||\n",
    "|**take away**|拿走||\n",
    "|**deduct**|扣除||\n",
    "|**inverse number, additive inverse number**|相反数|5 and -5|\n",
    "|**reverses its sign, sign change**|变号|5 -> -5|\n",
    "\n",
    "<center>表4. 中英文名词对照表</center>"
   ]
  },
  {
   "cell_type": "markdown",
   "id": "39d562ed-ad76-4d4c-b716-b301865632a3",
   "metadata": {},
   "source": [
    "## <center>1.4 向量，数字排成行、列</center>\n",
    "\n",
    "### 1.4.1 行向量、列向量\n",
    "若干数字排成一行或一列，并用中括号括起来，得到的数组叫做**向量**。\n",
    "\n",
    "排成一行的叫做**行向量**，排成一列的叫做**列向量**。\n",
    "$$\\begin{bmatrix} 1 & 2 & 3\\end{bmatrix}_{1 \\times 3}$$\n",
    "\n",
    "$$\\begin{bmatrix} 1 \\\\ 2 \\\\ 3 \\\\ \\end{bmatrix}_{3 \\times 1}$$\n",
    "\n",
    "其中，${1 \\times 3}$代表 *1行，3列*； ${3 \\times 1}$代表 *3行，1列*。\n",
    "\n",
    "```python\n",
    "# 在numpy库中，这样定义行向量与列向量\n",
    "\n",
    "numpy.array([1, 2, 3])  # 定义行向量\n",
    "numpy.array([1], [2], [3])  # 定义列向量\n",
    "```\n",
    "给定如下行向量***a***，***a***有n个元素，元素本身用小写字母表示，如：\n",
    "$$\\textbf{a} = \\begin{bmatrix} {a}_{1} & {a}_{2} & \\cdots & {a}_{n} \\end{bmatrix}$$\n",
    "\n",
    "\n",
    "### 1.4.2 转置\n",
    "使用转置符号${}^{T}$。行向量转置得到列向量，列向量转置得到行向量。\n",
    "例如：\n",
    "$$\\begin{bmatrix} 1 & 2 & 3\\end{bmatrix}^{T} = \\begin{bmatrix} 1 \\\\ 2 \\\\ 3 \\\\ \\end{bmatrix}$$\n",
    "\n",
    "$$\\begin{bmatrix} 1 \\\\ 2 \\\\ 3 \\\\ \\end{bmatrix}^{T} = \\begin{bmatrix} 1 & 2 & 3\\end{bmatrix}$$\n",
    "\n",
    "### 1.4.3 英文对照\n",
    "\n",
    "|英文表达|汉语表达|举例|\n",
    "|:---:|:---:|:---:|\n",
    "|**vector**|向量|$$\\begin{bmatrix} 1 & 2 & 3\\end{bmatrix}_{1 \\times 3}$$<br>$$\\begin{bmatrix} 1 \\\\ 2 \\\\ 3 \\\\ \\end{bmatrix}_{3 \\times 1}$$|\n",
    "|**row vector**|行向量|$$\\begin{bmatrix} 1 & 2 & 3\\end{bmatrix}_{1 \\times 3}$$|\n",
    "|**column vector**|列向量|$$\\begin{bmatrix} 1 \\\\ 2 \\\\ 3 \\\\ \\end{bmatrix}_{3 \\times 1}$$|\n",
    "|**transpose**|转置|$$\\begin{bmatrix} 1 & 2 & 3\\end{bmatrix}^{T} = \\begin{bmatrix} 1 \\\\ 2 \\\\ 3 \\\\ \\end{bmatrix}$$<br>$$\\begin{bmatrix} 1 \\\\ 2 \\\\ 3 \\\\ \\end{bmatrix}^{T} = \\begin{bmatrix} 1 & 2 & 3\\end{bmatrix}$$|  \n",
    "<center>表5. 中英文名词对照表</center>"
   ]
  },
  {
   "cell_type": "code",
   "execution_count": 9,
   "id": "3bb61029-cec5-437c-bdc6-f1f0ad6c1822",
   "metadata": {},
   "outputs": [
    {
     "name": "stdout",
     "output_type": "stream",
     "text": [
      "[4 6 9]\n",
      "[[ 5]\n",
      " [10]\n",
      " [20]]\n",
      "[4 6 9]\n",
      "[[ 5 10 20]]\n"
     ]
    }
   ],
   "source": [
    "\"\"\"定义行向量和列向量,并得到各自的转置\"\"\"\n",
    "\n",
    "import numpy as np\n",
    "\n",
    "row = np.array([4, 6, 9])  # 定义行向量\n",
    "col = np.array([[5], [10], [20]])  # 定义列向量\n",
    "\n",
    "print(row)\n",
    "print(col)\n",
    "\n",
    "row_tr = row.T  # 行向量转置\n",
    "col_tr = col.T\n",
    "\n",
    "print(row_tr)\n",
    "print(col_tr)"
   ]
  },
  {
   "cell_type": "markdown",
   "id": "337cc113-95ae-4144-b300-d5b6cbc8d40a",
   "metadata": {},
   "source": [
    "## <center>1.5 矩阵：数字排列成长方形</center>  \n",
    "### 1.5.1 矩阵\n",
    "**矩阵**将一系列数字以长方形方式排列，比如：\n",
    "$$\\begin{bmatrix} 1 & 2 & 3 \\\\ 4 & 5 & 6\\end{bmatrix}_{2 \\times 3}$$  \n",
    "$$\\begin{bmatrix} 1 & 2 \\\\ 3 & 4 \\\\ 5 & 6 \\\\ \\end{bmatrix}_{3 \\times 2}$$  \n",
    "$$\\begin{bmatrix} 1 & 2 \\\\ 3 & 4 \\\\ \\end{bmatrix}_{2 \\times 2}$$  \n",
    "这三个矩阵的形状分别为 *2行3列*，*3行2列*，*2行2列*。  \n",
    "\n",
    "一个一般性的矩阵可以这样来表示:  \n",
    "$$\\textbf{X}_{n \\times D}=\\begin{bmatrix}{x}_{1,1} & {x}_{1,2} & \\cdots & {x}_{1,D} \\\\ {x}_{2,1} & {x}_{2,2} & \\cdots & {x}_{2,D} \\\\ \\vdots & \\vdots & \\ddots & \\vdots \\\\ {x}_{n,1} & {x}_{n,2} & \\cdots & {x}_{n,D} \\\\\\end{bmatrix}$$  \n",
    "这个矩阵的形状是${n \\times D}$，${x}_{i,j}$被称为矩阵的元素，可以说${x}_{i,j}$出现在第i行，第j列。  \n",
    "\n",
    "### 1.5.2 英文对照\n",
    "|数学表达|英文表达|\n",
    "|:---|:---|\n",
    "|$$\\begin{bmatrix} 1 & 2 \\\\ 3 & 4 \\\\ \\end{bmatrix}$$|Two by two matrix, first row one two, second rwo three four|\n",
    "|$$\\begin{bmatrix}{x}_{1,1} & {x}_{1,2} & \\cdots & {x}_{1,n} \\\\ {x}_{2,1} & {x}_{2,2} & \\cdots & {x}_{2,n} \\\\ \\vdots & \\vdots & \\ddots & \\vdots \\\\ {x}_{m,1} & {x}_{m,2} & \\cdots & {x}_{m,m} \\\\\\end{bmatrix}$$|m by n matrix,<br>first row a sub one one, a sub one two, dot dot dot, a sub one n<br>second row a sub two one, a sub two two, dot dot dot, a sub two n<br>dot dot dot<br>last row a sub m one, a sub m two, dot dot dot, a sub m n.|\n",
    "|$${a}_{i,j}$$|Lowercase(small) a sub i comma j|\n",
    "|$${a}_{i,j+1}$$|Lowercase(small) a sub i comma j plus one|\n",
    "|$${a}_{i,j-1}$$|Lowercase(small) a sub i comma j minus one|  \n",
    "<center>表6. 数学英文对照表</center>"
   ]
  },
  {
   "cell_type": "code",
   "execution_count": 8,
   "id": "de627076-2e14-4383-b9df-ede4fb0b573d",
   "metadata": {},
   "outputs": [
    {
     "name": "stdout",
     "output_type": "stream",
     "text": [
      "[1 9]\n",
      "[[1]\n",
      " [9]]\n",
      "[[1 2]\n",
      " [9 8]]\n",
      "[1 2 6]\n",
      "[6]\n"
     ]
    }
   ],
   "source": [
    "\"\"\"\n",
    "定义一个矩阵\n",
    "提取矩阵的某一列、某两列\n",
    "提取矩阵的某一行\n",
    "提取矩阵的某一个位置的具体值\n",
    "\"\"\"\n",
    "\n",
    "import numpy as np\n",
    "\n",
    "A = np.array([[1, 2, 6],\n",
    "              [9, 8, 3]])  # 定义一个3*2的矩阵\n",
    "\n",
    "A_first_column = A[:, 0]  # 提取第一列\n",
    "A_first_col_V2 = A[:,[0]]  # 提取第一列，并将其作为列向量\n",
    "A_first_sencond_column = A[:, [0, 1]]  # 提取第二列\n",
    "\n",
    "A_first_row = A[0, :]  # 提取第一行\n",
    "A_element = A[[0], [2]]  # 提取第一行第三列元素\n",
    "\n",
    "print(A_first_column)\n",
    "print(A_first_col_V2)\n",
    "print(A_first_sencond_column)\n",
    "print(A_first_row)\n",
    "print(A_element)\n"
   ]
  },
  {
   "cell_type": "markdown",
   "id": "e7796222-061a-4e51-9deb-612d749e7911",
   "metadata": {},
   "source": [
    "## <center>1.6 矩阵：一排列向量，或一组行向量</center>  \n",
    "\n",
    "### 1.6.1 矩阵的组成\n",
    "矩阵可以看作为若干个列向量左右排列或若干行向量上下叠放。例如：  \n",
    "$$\n",
    "\\begin{bmatrix} \n",
    "1 & 2 & 3 \\\\ 4 & 5 & 6 \n",
    "\\end{bmatrix}_{2 \\times 3} = \n",
    "\\begin{bmatrix}\n",
    "\\begin{bmatrix}\n",
    "1 \\\\ 4 \n",
    "\\end{bmatrix} & \n",
    "\\begin{bmatrix}\n",
    "2 \\\\ 5 \n",
    "\\end{bmatrix} & \n",
    "\\begin{bmatrix} \n",
    "3 \\\\ 6 \n",
    "\\end{bmatrix}\n",
    "\\end{bmatrix} = \n",
    "\\begin{bmatrix}\n",
    "\\begin{bmatrix}\n",
    "1 & 2 & 3\n",
    "\\end{bmatrix} \\\\\n",
    "\\begin{bmatrix}\n",
    "4 & 5 & 6\n",
    "\\end{bmatrix} \\\\ \n",
    "\\end{bmatrix}\n",
    "$$  \n",
    "一般来说，形状为${n \\ times D}$的矩阵***X***，可以写成D个左右排列的列向量；也可以写成n个行向量上下叠放。  \n",
    "$$\\textbf{X}_{n \\times D} = \\begin{bmatrix}{x}_{1} & {x}_{2} & \\cdots & {x}_{D}\\end{bmatrix}$$\n",
    "$$\\textbf{X}_{n \\times D} = \\begin{bmatrix}{x}^{(1)} \\\\ {x}^{(2)} \\\\ \\vdots \\\\ {x}^{(n)}\\end{bmatrix} $$\n",
    "\n",
    "### 1.6.2 矩阵转置\n",
    "\n",
    "矩阵转置是指将矩阵的行列互换得到的新矩阵，例如：\n",
    "$$\\begin{bmatrix} 1 & 2 \\\\ 3 & 4 \\\\ 5 & 6 \\\\ \\end{bmatrix}^{\\rm T}_{3 \\times 2} = \\begin{bmatrix} 1 & 3 & 5 \\\\ 2 & 4 & 6\\end{bmatrix}_{2 \\times 3}$$\n",
    "\n",
    "如果从矩阵中行/列向量的角度来看，则对**矩阵A**转置的结果为：  \n",
    "$$\\textbf{A}^{\\rm T} = \\begin{bmatrix}{a}_{1} & {a}_{2} & {a}_{3}\\end{bmatrix}^{\\rm T} = \\begin{bmatrix}{a}^{\\rm T}_{1} \\\\ {a}^{\\rm T}_{2} \\\\ {a}^{\\rm T}_{3} \\\\\\end{bmatrix}$$\n",
    "$$\\textbf{A}^{\\rm T} = \\begin{bmatrix}{a}^{(1)} \\\\ {a}^{(2)} \\\\ {a}^{3}\\end{bmatrix}^{\\rm T} = \\begin{bmatrix}{a}^{\\rm (1)T} & {a}^{\\rm (2)T} & {a}^{\\rm (3)T}\\end{bmatrix}$$"
   ]
  },
  {
   "cell_type": "markdown",
   "id": "daf527cb-14b8-479f-83bd-b285a164a2e5",
   "metadata": {},
   "source": [
    "## <center>1.7矩阵形状：每种形状都有特殊性质和用途</center>\n",
    "\n",
    "1. 行向量和列向量都是特殊的矩阵;\n",
    "    1. 如果列向量的元素都为1，一般记作$\\textbf{1}$，称为全1列向量，简称为**全1向量**;  \n",
    "    2. 如果列向量的元素都为0，记作$\\textbf{0}$，称为**0向量**。\n",
    "2. 行数和列数相等的矩阵为**方阵**;\n",
    "3. **对角矩阵**是除主对角线外的元素皆为0的方阵;\n",
    "    -  **单位矩阵**是元素均为1的对角矩阵,记为 $\\textbf{I}$;\n",
    "4. **对称矩阵**是元素相对与主对角线轴对称的方阵;\n",
    "5. **零矩阵**指所有元素皆为0的方阵，记为$\\textbf{O}$.\n",
    "\n",
    "|英文表达|汉语表达|举例|\n",
    "|:---|:---|:---|\n",
    "|**all-ones vector**|全1向量|$$\\begin{bmatrix}1 \\\\ 1 \\\\ \\vdots \\\\ 1\\end{bmatrix}$$|\n",
    "|**zero vector**|零向量|$$\\begin{bmatrix}0 \\\\ 0 \\\\ \\vdots \\\\ 0\\end{bmatrix}$$|\n",
    "|**square matrix**|方阵|$$\\begin{bmatrix}1 & 2 & 3 \\\\ 4 & 5 & 6 \\\\ 7 & 8 & 9\\end{bmatrix}$$|\n",
    "|**diagonal matrix**|对角矩阵|$$\\begin{bmatrix}5 & & \\\\ & 10 & \\\\ & & 20\\end{bmatrix}$$|\n",
    "|**identity matrix**|单位矩阵|$$\\begin{bmatrix}1 & & \\\\ & 1 & \\\\ & & 1\\end{bmatrix}$$|\n",
    "|**symmetric matrix**|对称矩阵|$$\\begin{bmatrix}1 & 2 & 9 \\\\ 2 & 1 & 5 \\\\ 9 & 5 & 1\\end{bmatrix}$$|\n",
    "|**null matrix**|0矩阵|$$\\begin{bmatrix}0 & 0 & 0 \\\\ 0 & 0 & 0 \\\\ 0 & 0 & 0\\end{bmatrix}$$|\n",
    "<center>表7. 中英文名词对照表</center>"
   ]
  },
  {
   "cell_type": "markdown",
   "id": "ca22867b-cf58-44ce-96cc-9f040802c1b3",
   "metadata": {},
   "source": [
    "## <center>1.8 矩阵加减：形状形同，对应位置，批量加减</center>\n",
    "\n",
    "### 1.8.1 向量加减\n",
    "行向量与列向量也是特殊的矩阵，它们的加减法为：对应元素相加减，结果仍为行/列向量。\n",
    "$$\\begin{bmatrix}1 & 2 & 3\\end{bmatrix} + \\begin{bmatrix} 2 & 4 & 6 \\end{bmatrix} = \\begin{bmatrix}3 & 6 & 9\\end{bmatrix}$$  \n",
    "$$\\begin{bmatrix}1 & 2 & 3\\end{bmatrix} - \\begin{bmatrix} 2 & 4 & 6 \\end{bmatrix} = \\begin{bmatrix}-1 & -2 & -3\\end{bmatrix}$$  \n",
    "$$\\begin{bmatrix}1 \\\\ 2 \\\\ 3\\end{bmatrix} + \\begin{bmatrix} 2 \\\\ 4 \\\\ 6 \\end{bmatrix} = \\begin{bmatrix}3 \\\\ 6 \\\\ 9\\end{bmatrix}$$  \n",
    "$$\\begin{bmatrix}1 \\\\ 2 \\\\ 3\\end{bmatrix} - \\begin{bmatrix} 2 \\\\ 4 \\\\ 6 \\end{bmatrix} = \\begin{bmatrix}-1 \\\\ -2 \\\\ -3\\end{bmatrix}$$"
   ]
  },
  {
   "cell_type": "code",
   "execution_count": 7,
   "id": "7db15530-7cab-451f-be88-10920859a158",
   "metadata": {},
   "outputs": [
    {
     "name": "stdout",
     "output_type": "stream",
     "text": [
      "[5, 7, 9]\n",
      "[5, 7, 9]\n",
      "[5 7 9]\n",
      "[5 7 9]\n"
     ]
    }
   ],
   "source": [
    "\"\"\"向量的加减\"\"\"\n",
    "\n",
    "import numpy as np\n",
    "\n",
    "list1=[1, 2, 3]\n",
    "list2=[4, 5, 6]\n",
    "print([x + y for x, y in zip(list1, list2)])\n",
    "\n",
    "print(list(map(lambda x,y:x+y, list1, list2)))\n",
    "\n",
    "x = np.array(list1)\n",
    "y = np.array(list2)\n",
    "print(x+y)\n",
    "\n",
    "print(np.add(list1,list2))"
   ]
  },
  {
   "cell_type": "markdown",
   "id": "42c006b9-a367-4458-9979-c2e661764d8c",
   "metadata": {},
   "source": [
    "### 1.8.2 矩阵加减  \n",
    "形状相同的两个矩阵相加的结果也是矩阵。对应元素相加减，形状不变。例如：  \n",
    "$$\\begin{bmatrix} 1 & 2 & 3 \\\\ 4 & 5 & 6\\end{bmatrix}_{2 \\times 3} + \\begin{bmatrix} 2 & 4 & 6 \\\\ 8 & 10 & 12\\end{bmatrix}_{2 \\times 3} = \\begin{bmatrix} {1+2} & {2+4} & {3+6} \\\\ {4+8} & {5+10} & {6+12}\\end{bmatrix}_{2 \\times 3} = \\begin{bmatrix} 3 & 6 & 9 \\\\ 12 & 15 & 18\\end{bmatrix}_{2 \\times 3}$$   \n",
    "$$\\begin{bmatrix} 1 & 2 & 3 \\\\ 4 & 5 & 6\\end{bmatrix}_{2 \\times 3} - \\begin{bmatrix} 2 & 4 & 6 \\\\ 8 & 10 & 12\\end{bmatrix}_{2 \\times 3} = \\begin{bmatrix} {1-2} & {2-4} & {3-6} \\\\ {4-8} & {5-10} & {6-12}\\end{bmatrix}_{2 \\times 3} = \\begin{bmatrix} -1 & -2 & -3 \\\\ -4 & -5 & -6\\end{bmatrix}_{2 \\times 3}$$  \n"
   ]
  },
  {
   "cell_type": "code",
   "execution_count": 6,
   "id": "4a7fe97b-00ed-42b3-b2a6-580fbc41f569",
   "metadata": {},
   "outputs": [
    {
     "name": "stdout",
     "output_type": "stream",
     "text": [
      "[[ 3  6  9]\n",
      " [12 15 18]]\n",
      "[[-1 -2 -3]\n",
      " [-4 -5 -6]]\n"
     ]
    }
   ],
   "source": [
    "\"\"\"矩阵加减法\"\"\"\n",
    "\n",
    "import numpy as np\n",
    "\n",
    "array_1 = [[1, 2, 3], [4, 5, 6]]\n",
    "array_2 = [[2, 4, 6], [8, 10, 12]]\n",
    "\n",
    "array_1 = np.array(array_1)\n",
    "array_2 = np.array(array_2)\n",
    "\n",
    "sum = np.add(array_1, array_2)\n",
    "diff = np.subtract(array_1, array_2)\n",
    "\n",
    "print(sum)\n",
    "print(diff)"
   ]
  },
  {
   "cell_type": "code",
   "execution_count": null,
   "id": "76a137c2-bb1c-423f-8524-7ead29ac78e2",
   "metadata": {},
   "outputs": [],
   "source": []
  }
 ],
 "metadata": {
  "kernelspec": {
   "display_name": "ML",
   "language": "python",
   "name": "ml"
  },
  "language_info": {
   "codemirror_mode": {
    "name": "ipython",
    "version": 3
   },
   "file_extension": ".py",
   "mimetype": "text/x-python",
   "name": "python",
   "nbconvert_exporter": "python",
   "pygments_lexer": "ipython3",
   "version": "3.9.16"
  }
 },
 "nbformat": 4,
 "nbformat_minor": 5
}
